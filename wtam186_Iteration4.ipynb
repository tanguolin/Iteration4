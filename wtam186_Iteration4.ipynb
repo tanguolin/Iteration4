{
 "cells": [
  {
   "cell_type": "code",
   "execution_count": 46,
   "id": "1c1b2eb3",
   "metadata": {},
   "outputs": [],
   "source": [
    "# Initializing the app\n",
    "import findspark\n",
    "findspark.init('/home/ubuntu/spark-3.2.1-bin-hadoop2.7')\n",
    "import pyspark\n",
    "from pyspark.sql import *\n",
    "spark = SparkSession.builder.appName('wtam186_Iteration4').getOrCreate()"
   ]
  },
  {
   "cell_type": "code",
   "execution_count": 47,
   "id": "5c8aad51",
   "metadata": {},
   "outputs": [
    {
     "data": {
      "text/plain": [
       "DataFrame[ID: string, Region of residence: string, Age of Subject: string, Time spent on Online Class: string, Rating of Online Class experience: string, Medium for online class: string, Time spent on self study: string, Time spent on fitness: string, Time spent on sleep: string, Time spent on social media: string, Prefered social media platform: string, Time spent on TV: string, Number of meals per day: string, Change in your weight: string, Health issue during lockdown: string, Stress busters: string, Time utilized: string, Do you find yourself more connected with your family, close friends , relatives  ?: string, What you miss the most: string]"
      ]
     },
     "execution_count": 47,
     "metadata": {},
     "output_type": "execute_result"
    }
   ],
   "source": [
    "# Loading dataset\n",
    "df = spark.read.csv('./Datasets/COVID-19 Survey Student Responses.csv', header='true')\n",
    "df"
   ]
  },
  {
   "cell_type": "markdown",
   "id": "063fa4ef",
   "metadata": {},
   "source": [
    "# Step 2.1: Initial Inspection on the dataset"
   ]
  },
  {
   "cell_type": "code",
   "execution_count": 48,
   "id": "76b35679",
   "metadata": {},
   "outputs": [
    {
     "name": "stdout",
     "output_type": "stream",
     "text": [
      "+---+-------------------+--------------+--------------------------+---------------------------------+\n",
      "| ID|Region of residence|Age of Subject|Time spent on Online Class|Rating of Online Class experience|\n",
      "+---+-------------------+--------------+--------------------------+---------------------------------+\n",
      "| R1|          Delhi-NCR|            21|                         2|                             Good|\n",
      "| R2|          Delhi-NCR|            21|                         0|                        Excellent|\n",
      "| R3|          Delhi-NCR|            20|                         7|                        Very poor|\n",
      "| R4|          Delhi-NCR|            20|                         3|                        Very poor|\n",
      "| R5|          Delhi-NCR|            21|                         3|                             Good|\n",
      "| R6|          Delhi-NCR|            21|                         0|                        Very poor|\n",
      "| R7|          Delhi-NCR|            19|                         2|                        Very poor|\n",
      "| R8|  Outside Delhi-NCR|            19|                         2|                        Very poor|\n",
      "| R9|          Delhi-NCR|            21|                         3|                        Very poor|\n",
      "|R10|  Outside Delhi-NCR|            20|                         0|                        Very poor|\n",
      "+---+-------------------+--------------+--------------------------+---------------------------------+\n",
      "only showing top 10 rows\n",
      "\n",
      "+-----------------------+------------------------+---------------------+-------------------+\n",
      "|Medium for online class|Time spent on self study|Time spent on fitness|Time spent on sleep|\n",
      "+-----------------------+------------------------+---------------------+-------------------+\n",
      "|         Laptop/Desktop|                       4|                    0|                  7|\n",
      "|             Smartphone|                       0|                    2|                 10|\n",
      "|         Laptop/Desktop|                       3|                    0|                  6|\n",
      "|             Smartphone|                       2|                    1|                  6|\n",
      "|         Laptop/Desktop|                       3|                    1|                  8|\n",
      "|             Smartphone|                       6|                    0|                  5|\n",
      "|             Smartphone|                       2|                    1|                  5|\n",
      "|                 Tablet|                       1|                    1|                 10|\n",
      "|         Laptop/Desktop|                       4|                    1|                  8|\n",
      "|         Laptop/Desktop|                       1|                  0.5|                  8|\n",
      "+-----------------------+------------------------+---------------------+-------------------+\n",
      "only showing top 10 rows\n",
      "\n",
      "+--------------------------+------------------------------+----------------+-----------------------+\n",
      "|Time spent on social media|Prefered social media platform|Time spent on TV|Number of meals per day|\n",
      "+--------------------------+------------------------------+----------------+-----------------------+\n",
      "|                         3|                      Linkedin|               1|                      4|\n",
      "|                         3|                       Youtube|               0|                      3|\n",
      "|                         2|                      Linkedin|               0|                      3|\n",
      "|                         5|                     Instagram|               0|                      3|\n",
      "|                         3|                     Instagram|               1|                      4|\n",
      "|                         1|                       Youtube|               0|                      1|\n",
      "|                         4|                     Instagram|               0|                      3|\n",
      "|                         5|                     Instagram|               0|                      3|\n",
      "|                         2|                      Whatsapp|               1|                      3|\n",
      "|                         5|                     Instagram|               3|                      3|\n",
      "+--------------------------+------------------------------+----------------+-----------------------+\n",
      "only showing top 10 rows\n",
      "\n",
      "+---------------------+----------------------------+--------------------+-------------+\n",
      "|Change in your weight|Health issue during lockdown|      Stress busters|Time utilized|\n",
      "+---------------------+----------------------------+--------------------+-------------+\n",
      "|            Increased|                          NO|             Cooking|          YES|\n",
      "|            Decreased|                          NO|Scrolling through...|          YES|\n",
      "|      Remain Constant|                          NO|  Listening to music|           NO|\n",
      "|            Decreased|                          NO| Watching web series|           NO|\n",
      "|      Remain Constant|                          NO|        Social Media|           NO|\n",
      "|            Decreased|                         YES|Coding and studyi...|           NO|\n",
      "|            Increased|                          NO| Watching web series|           NO|\n",
      "|            Increased|                         YES|Scrolling through...|           NO|\n",
      "|            Increased|                          NO|      Online surfing|           NO|\n",
      "|            Decreased|                         YES|live stream watching|           NO|\n",
      "+---------------------+----------------------------+--------------------+-------------+\n",
      "only showing top 10 rows\n",
      "\n",
      "+----------------------------------------------------------------------------------+----------------------+\n",
      "|Do you find yourself more connected with your family, close friends , relatives  ?|What you miss the most|\n",
      "+----------------------------------------------------------------------------------+----------------------+\n",
      "|                                                                               YES|        School/college|\n",
      "|                                                                                NO|  Roaming around fr...|\n",
      "|                                                                               YES|            Travelling|\n",
      "|                                                                                NO|   Friends , relatives|\n",
      "|                                                                                NO|            Travelling|\n",
      "|                                                                               YES|        School/college|\n",
      "|                                                                               YES|   Friends , relatives|\n",
      "|                                                                               YES|        Eating outside|\n",
      "|                                                                                NO|   Friends , relatives|\n",
      "|                                                                                NO|        School/college|\n",
      "+----------------------------------------------------------------------------------+----------------------+\n",
      "only showing top 10 rows\n",
      "\n"
     ]
    }
   ],
   "source": [
    "# Understanding the data by showing the top 10 rows and displaying specific columns in a clear and tidy format (to avoid output being truncated)\n",
    "df.select(\"ID\", \"Region of residence\", \"Age of Subject\", \"Time spent on Online Class\", \"Rating of Online Class experience\").show(10)\n",
    "df.select(\"Medium for online class\", \"Time spent on self study\", \"Time spent on fitness\", \"Time spent on sleep\").show(10)\n",
    "df.select(\"Time spent on social media\", \"Prefered social media platform\", \"Time spent on TV\", \"Number of meals per day\").show(10)\n",
    "df.select(\"Change in your weight\", \"Health issue during lockdown\", \"Stress busters\", \"Time utilized\").show(10)\n",
    "df.select(\"Do you find yourself more connected with your family, close friends , relatives  ?\", \"What you miss the most\").show(10)\n"
   ]
  },
  {
   "cell_type": "markdown",
   "id": "46ce5c44",
   "metadata": {},
   "source": [
    "# Step 2.2 Describing the data"
   ]
  },
  {
   "cell_type": "code",
   "execution_count": 49,
   "id": "c27dfe79",
   "metadata": {},
   "outputs": [
    {
     "name": "stdout",
     "output_type": "stream",
     "text": [
      "root\n",
      " |-- ID: string (nullable = true)\n",
      " |-- Region of residence: string (nullable = true)\n",
      " |-- Age of Subject: string (nullable = true)\n",
      " |-- Time spent on Online Class: string (nullable = true)\n",
      " |-- Rating of Online Class experience: string (nullable = true)\n",
      " |-- Medium for online class: string (nullable = true)\n",
      " |-- Time spent on self study: string (nullable = true)\n",
      " |-- Time spent on fitness: string (nullable = true)\n",
      " |-- Time spent on sleep: string (nullable = true)\n",
      " |-- Time spent on social media: string (nullable = true)\n",
      " |-- Prefered social media platform: string (nullable = true)\n",
      " |-- Time spent on TV: string (nullable = true)\n",
      " |-- Number of meals per day: string (nullable = true)\n",
      " |-- Change in your weight: string (nullable = true)\n",
      " |-- Health issue during lockdown: string (nullable = true)\n",
      " |-- Stress busters: string (nullable = true)\n",
      " |-- Time utilized: string (nullable = true)\n",
      " |-- Do you find yourself more connected with your family, close friends , relatives  ?: string (nullable = true)\n",
      " |-- What you miss the most: string (nullable = true)\n",
      "\n"
     ]
    }
   ],
   "source": [
    "# Obtaining the data type of each column\n",
    "df.printSchema()"
   ]
  },
  {
   "cell_type": "code",
   "execution_count": 50,
   "id": "b0d4b078",
   "metadata": {},
   "outputs": [
    {
     "data": {
      "text/plain": [
       "1182"
      ]
     },
     "execution_count": 50,
     "metadata": {},
     "output_type": "execute_result"
    }
   ],
   "source": [
    "df.count()"
   ]
  },
  {
   "cell_type": "code",
   "execution_count": 51,
   "id": "26af394a",
   "metadata": {},
   "outputs": [
    {
     "data": {
      "text/plain": [
       "19"
      ]
     },
     "execution_count": 51,
     "metadata": {},
     "output_type": "execute_result"
    }
   ],
   "source": [
    "len(df.columns)"
   ]
  },
  {
   "cell_type": "markdown",
   "id": "96518bec",
   "metadata": {},
   "source": [
    "# Step 2.3: Data exploration"
   ]
  },
  {
   "cell_type": "code",
   "execution_count": 52,
   "id": "220f61fd",
   "metadata": {},
   "outputs": [
    {
     "name": "stdout",
     "output_type": "stream",
     "text": [
      "Defaulting to user installation because normal site-packages is not writeable\n",
      "Requirement already satisfied: seaborn in /home/ubuntu/.local/lib/python3.10/site-packages (0.11.2)\n",
      "Requirement already satisfied: numpy>=1.15 in /home/ubuntu/.local/lib/python3.10/site-packages (from seaborn) (1.22.4)\n",
      "Requirement already satisfied: scipy>=1.0 in /home/ubuntu/.local/lib/python3.10/site-packages (from seaborn) (1.8.1)\n",
      "Requirement already satisfied: pandas>=0.23 in /home/ubuntu/.local/lib/python3.10/site-packages (from seaborn) (1.4.2)\n",
      "Requirement already satisfied: matplotlib>=2.2 in /home/ubuntu/.local/lib/python3.10/site-packages (from seaborn) (3.5.2)\n",
      "Requirement already satisfied: cycler>=0.10 in /home/ubuntu/.local/lib/python3.10/site-packages (from matplotlib>=2.2->seaborn) (0.11.0)\n",
      "Requirement already satisfied: fonttools>=4.22.0 in /home/ubuntu/.local/lib/python3.10/site-packages (from matplotlib>=2.2->seaborn) (4.33.3)\n",
      "Requirement already satisfied: kiwisolver>=1.0.1 in /home/ubuntu/.local/lib/python3.10/site-packages (from matplotlib>=2.2->seaborn) (1.4.2)\n",
      "Requirement already satisfied: packaging>=20.0 in /home/ubuntu/.local/lib/python3.10/site-packages (from matplotlib>=2.2->seaborn) (21.3)\n",
      "Requirement already satisfied: pillow>=6.2.0 in /home/ubuntu/.local/lib/python3.10/site-packages (from matplotlib>=2.2->seaborn) (9.1.1)\n",
      "Requirement already satisfied: pyparsing>=2.2.1 in /usr/lib/python3/dist-packages (from matplotlib>=2.2->seaborn) (2.4.7)\n",
      "Requirement already satisfied: python-dateutil>=2.7 in /home/ubuntu/.local/lib/python3.10/site-packages (from matplotlib>=2.2->seaborn) (2.8.2)\n",
      "Requirement already satisfied: pytz>=2020.1 in /usr/lib/python3/dist-packages (from pandas>=0.23->seaborn) (2022.1)\n",
      "Requirement already satisfied: six>=1.5 in /usr/lib/python3/dist-packages (from python-dateutil>=2.7->matplotlib>=2.2->seaborn) (1.16.0)\n",
      "\u001b[33mDEPRECATION: distro-info 1.1build1 has a non-standard version number. pip 23.3 will enforce this behaviour change. A possible replacement is to upgrade to a newer version of distro-info or contact the author to suggest that they release a version with a conforming version number. Discussion can be found at https://github.com/pypa/pip/issues/12063\u001b[0m\u001b[33m\n",
      "\u001b[0m\u001b[33mDEPRECATION: python-debian 0.1.43ubuntu1 has a non-standard version number. pip 23.3 will enforce this behaviour change. A possible replacement is to upgrade to a newer version of python-debian or contact the author to suggest that they release a version with a conforming version number. Discussion can be found at https://github.com/pypa/pip/issues/12063\u001b[0m\u001b[33m\n",
      "\u001b[0mDefaulting to user installation because normal site-packages is not writeable\n",
      "Requirement already satisfied: pip in /home/ubuntu/.local/lib/python3.10/site-packages (23.2.1)\n",
      "\u001b[33mDEPRECATION: distro-info 1.1build1 has a non-standard version number. pip 23.3 will enforce this behaviour change. A possible replacement is to upgrade to a newer version of distro-info or contact the author to suggest that they release a version with a conforming version number. Discussion can be found at https://github.com/pypa/pip/issues/12063\u001b[0m\u001b[33m\n",
      "\u001b[0m\u001b[33mDEPRECATION: python-debian 0.1.43ubuntu1 has a non-standard version number. pip 23.3 will enforce this behaviour change. A possible replacement is to upgrade to a newer version of python-debian or contact the author to suggest that they release a version with a conforming version number. Discussion can be found at https://github.com/pypa/pip/issues/12063\u001b[0m\u001b[33m\n",
      "\u001b[0m"
     ]
    }
   ],
   "source": [
    "!pip3 install seaborn\n",
    "!pip3 install --upgrade pip\n",
    "import numpy as np\n",
    "import pandas\n",
    "import seaborn as sns\n",
    "import matplotlib.pyplot as plt\n",
    "from scipy import stats"
   ]
  },
  {
   "cell_type": "code",
   "execution_count": 53,
   "id": "77abccf2",
   "metadata": {},
   "outputs": [
    {
     "data": {
      "image/png": "[encoded data removed]",
      "text/plain": [
       "<Figure size 1440x720 with 1 Axes>"
      ]
     },
     "metadata": {},
     "output_type": "display_data"
    }
   ],
   "source": [
    "#PySpark doesn't provide as extensive plotting capabilities as Pandas and Matplotlib\n",
    "#So could not use pyspark to create the histogram for the 'Region of residence' column\n",
    "from pandas import read_csv\n",
    "import pandas as pd\n",
    "from matplotlib import pyplot\n",
    "\n",
    "dfpd=pd.read_csv('./Datasets/COVID-19 Survey Student Responses.csv')\n",
    "\n",
    "sns.set(style='darkgrid')\n",
    "plt.figure(figsize=(20,10))\n",
    "ax = sns.countplot(x='Region of residence', data=dfpd)\n",
    "# Calculate percentages\n",
    "total = len(dfpd)\n",
    "counts = dfpd['Region of residence'].value_counts()\n",
    "percentages = counts / total * 100\n",
    "# Annotate the bars with percentage labels\n",
    "for i, p in enumerate(ax.patches):\n",
    "    height = p.get_height()\n",
    "    ax.annotate(f'{percentages[i]:.1f}%',\n",
    "    (p.get_x() + p.get_width() / 2., height),\n",
    "    ha='center', va='bottom')\n",
    "plt.xlabel('Region of residence')\n",
    "plt.ylabel('Count')\n",
    "plt.title('Distribution of Region of residence')\n",
    "plt.show()"
   ]
  },
  {
   "cell_type": "code",
   "execution_count": 54,
   "id": "1ba90303",
   "metadata": {},
   "outputs": [
    {
     "name": "stderr",
     "output_type": "stream",
     "text": [
      "*c* argument looks like a single numeric RGB or RGBA sequence, which should be avoided as value-mapping will have precedence in case its length matches with *x* & *y*.  Please use the *color* keyword-argument or provide a 2D array with a single row if you intend to specify the same RGB or RGBA value for all points.\n"
     ]
    },
    {
     "data": {
      "image/png": "[encoded data removed]",
      "text/plain": [
       "<Figure size 432x288 with 1 Axes>"
      ]
     },
     "metadata": {},
     "output_type": "display_data"
    }
   ],
   "source": [
    "#PySpark doesn't provide as extensive plotting capabilities as Pandas and Matplotlib\n",
    "#So could not use pyspark to create the scatter plot\n",
    "dfpd.plot(kind='scatter', x='Age of Subject', y='Region of residence')\n",
    "plt.show()"
   ]
  },
  {
   "cell_type": "code",
   "execution_count": 55,
   "id": "c0dcada6",
   "metadata": {},
   "outputs": [
    {
     "name": "stdout",
     "output_type": "stream",
     "text": [
      "+---+-------------------+--------------+--------------------------+---------------------------------+-----------------------+------------------------+---------------------+-------------------+--------------------------+------------------------------+----------------+-----------------------+---------------------+----------------------------+--------------+-------------+----------------------------------------------------------------------------------+----------------------+\n",
      "| ID|Region of residence|Age of Subject|Time spent on Online Class|Rating of Online Class experience|Medium for online class|Time spent on self study|Time spent on fitness|Time spent on sleep|Time spent on social media|Prefered social media platform|Time spent on TV|Number of meals per day|Change in your weight|Health issue during lockdown|Stress busters|Time utilized|Do you find yourself more connected with your family, close friends , relatives  ?|What you miss the most|\n",
      "+---+-------------------+--------------+--------------------------+---------------------------------+-----------------------+------------------------+---------------------+-------------------+--------------------------+------------------------------+----------------+-----------------------+---------------------+----------------------------+--------------+-------------+----------------------------------------------------------------------------------+----------------------+\n",
      "|  0|                  0|             0|                         0|                                0|                      0|                       0|                    0|                  0|                         0|                             0|               0|                      0|                    0|                           0|             0|            0|                                                                                 0|                     0|\n",
      "+---+-------------------+--------------+--------------------------+---------------------------------+-----------------------+------------------------+---------------------+-------------------+--------------------------+------------------------------+----------------+-----------------------+---------------------+----------------------------+--------------+-------------+----------------------------------------------------------------------------------+----------------------+\n",
      "\n"
     ]
    }
   ],
   "source": [
    "### Use pyspark to count both null and missing values\n",
    "from pyspark.sql.functions import isnan, when, count, col\n",
    "df.select([count(when(isnan(c) | col(c).isNull(), c)).alias(c) for c in df.columns]).show()"
   ]
  },
  {
   "cell_type": "code",
   "execution_count": 56,
   "id": "2d52669a",
   "metadata": {},
   "outputs": [
    {
     "data": {
      "image/png": "[encoded data removed]",
      "text/plain": [
       "<Figure size 1440x720 with 1 Axes>"
      ]
     },
     "metadata": {},
     "output_type": "display_data"
    }
   ],
   "source": [
    "#PySpark doesn't provide as extensive plotting capabilities as Pandas and Matplotlib\n",
    "#So could not use pyspark to create the bar chart\n",
    "sns.set(style='darkgrid')\n",
    "plt.figure(figsize=(20, 10))\n",
    "ax = sns.countplot(x='Medium for online class', data=dfpd, palette='Set1') # Change the palette for visualization\n",
    "# Calculate percentages\n",
    "total = len(dfpd)\n",
    "counts = dfpd['Medium for online class'].value_counts()\n",
    "percentages = counts / total * 100\n",
    "# Annotate the bars with percentage labels\n",
    "for i, p in enumerate(ax.patches):\n",
    "    height = p.get_height()\n",
    "    ax.annotate(f'{percentages[i]:.1f}%',\n",
    "    (p.get_x() + p.get_width() / 2., height),\n",
    "    ha='center', va='bottom')\n",
    "plt.xlabel('Medium for online class')\n",
    "plt.ylabel('Count')\n",
    "plt.title('Distribution of Medium for online class')\n",
    "plt.show()"
   ]
  },
  {
   "cell_type": "code",
   "execution_count": 60,
   "id": "7151a501",
   "metadata": {},
   "outputs": [
    {
     "name": "stdout",
     "output_type": "stream",
     "text": [
      "Unique values of time spent on TV:\n",
      "+----------------+\n",
      "|Time spent on TV|\n",
      "+----------------+\n",
      "|               7|\n",
      "|            0.75|\n",
      "|              15|\n",
      "|             0.3|\n",
      "|               3|\n",
      "|               8|\n",
      "|            0.25|\n",
      "|             4.5|\n",
      "|               0|\n",
      "|             2.5|\n",
      "|               5|\n",
      "|               n|\n",
      "|             3.5|\n",
      "|               6|\n",
      "|             0.5|\n",
      "|             0.6|\n",
      "|               N|\n",
      "|             0.1|\n",
      "|             1.5|\n",
      "|               1|\n",
      "|               4|\n",
      "|                |\n",
      "|           No tv|\n",
      "|               2|\n",
      "|             0.4|\n",
      "+----------------+\n",
      "\n",
      "\n",
      "Counts of each unique time:\n",
      "+----------------+-----+\n",
      "|Time spent on TV|count|\n",
      "+----------------+-----+\n",
      "|               7|    2|\n",
      "|            0.75|    1|\n",
      "|              15|    1|\n",
      "|             0.3|   12|\n",
      "|               3|   50|\n",
      "|               8|    2|\n",
      "|            0.25|    1|\n",
      "|             4.5|    2|\n",
      "|               0|  441|\n",
      "|             2.5|    2|\n",
      "|               5|   10|\n",
      "|               n|    1|\n",
      "|             3.5|    1|\n",
      "|               6|    9|\n",
      "|             0.5|   78|\n",
      "|             0.6|    1|\n",
      "|               N|    7|\n",
      "|             0.1|    4|\n",
      "|             1.5|   14|\n",
      "|               1|  306|\n",
      "|               4|   24|\n",
      "|                |    2|\n",
      "|           No tv|    3|\n",
      "|               2|  207|\n",
      "|             0.4|    1|\n",
      "+----------------+-----+\n",
      "\n"
     ]
    }
   ],
   "source": [
    "#'df' is PySpark DataFrame\n",
    "\n",
    "# Extract unique values from the 'Time spent on TV' column\n",
    "unique_times = df.select('Time spent on TV').distinct()\n",
    "\n",
    "# Count the occurrences of each unique value\n",
    "time_counts = df.groupBy('Time spent on TV').agg(count('*').alias('count'))\n",
    "\n",
    "# Collect the results and print them\n",
    "print(\"Unique values of time spent on TV:\")\n",
    "unique_times.show(30)\n",
    "\n",
    "print(\"\\nCounts of each unique time:\")\n",
    "time_counts.show(30)"
   ]
  },
  {
   "cell_type": "code",
   "execution_count": null,
   "id": "f1f899c9",
   "metadata": {},
   "outputs": [],
   "source": []
  },
  {
   "cell_type": "code",
   "execution_count": null,
   "id": "d30604be",
   "metadata": {},
   "outputs": [],
   "source": []
  }
 ],
 "metadata": {
  "kernelspec": {
   "display_name": "Python 3 (ipykernel)",
   "language": "python",
   "name": "python3"
  },
  "language_info": {
   "codemirror_mode": {
    "name": "ipython",
    "version": 3
   },
   "file_extension": ".py",
   "mimetype": "text/x-python",
   "name": "python",
   "nbconvert_exporter": "python",
   "pygments_lexer": "ipython3",
   "version": "3.10.4"
  }
 },
 "nbformat": 4,
 "nbformat_minor": 5
}
