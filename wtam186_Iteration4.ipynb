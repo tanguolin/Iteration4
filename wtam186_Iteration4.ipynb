{
 "cells": [
  {
   "cell_type": "code",
   "execution_count": 1,
   "id": "1c1b2eb3",
   "metadata": {},
   "outputs": [
    {
     "name": "stderr",
     "output_type": "stream",
     "text": [
      "WARNING: An illegal reflective access operation has occurred\n",
      "WARNING: Illegal reflective access by org.apache.spark.unsafe.Platform (file:/home/ubuntu/spark-3.2.1-bin-hadoop2.7/jars/spark-unsafe_2.12-3.2.1.jar) to constructor java.nio.DirectByteBuffer(long,int)\n",
      "WARNING: Please consider reporting this to the maintainers of org.apache.spark.unsafe.Platform\n",
      "WARNING: Use --illegal-access=warn to enable warnings of further illegal reflective access operations\n",
      "WARNING: All illegal access operations will be denied in a future release\n",
      "Using Spark's default log4j profile: org/apache/spark/log4j-defaults.properties\n",
      "Setting default log level to \"WARN\".\n",
      "To adjust logging level use sc.setLogLevel(newLevel). For SparkR, use setLogLevel(newLevel).\n",
      "23/10/03 00:22:22 WARN NativeCodeLoader: Unable to load native-hadoop library for your platform... using builtin-java classes where applicable\n"
     ]
    }
   ],
   "source": [
    "# Initializing the app\n",
    "import findspark\n",
    "findspark.init('/home/ubuntu/spark-3.2.1-bin-hadoop2.7')\n",
    "import pyspark\n",
    "from pyspark.sql import *\n",
    "spark = SparkSession.builder.appName('wtam186_Iteration4').getOrCreate()"
   ]
  },
  {
   "cell_type": "code",
   "execution_count": 2,
   "id": "5c8aad51",
   "metadata": {},
   "outputs": [
    {
     "name": "stderr",
     "output_type": "stream",
     "text": [
      "\r",
      "[Stage 0:>                                                          (0 + 1) / 1]\r",
      "\r",
      "                                                                                \r"
     ]
    },
    {
     "data": {
      "text/plain": [
       "DataFrame[ID: string, Region of residence: string, Age of Subject: string, Time spent on Online Class: string, Rating of Online Class experience: string, Medium for online class: string, Time spent on self study: string, Time spent on fitness: string, Time spent on sleep: string, Time spent on social media: string, Prefered social media platform: string, Time spent on TV: string, Number of meals per day: string, Change in your weight: string, Health issue during lockdown: string, Stress busters: string, Time utilized: string, Do you find yourself more connected with your family, close friends , relatives  ?: string, What you miss the most: string]"
      ]
     },
     "execution_count": 2,
     "metadata": {},
     "output_type": "execute_result"
    }
   ],
   "source": [
    "# Loading dataset\n",
    "df = spark.read.csv('./Datasets/COVID-19 Survey Student Responses.csv', header='true')\n",
    "df"
   ]
  },
  {
   "cell_type": "markdown",
   "id": "063fa4ef",
   "metadata": {},
   "source": [
    "# Step 2.1: Initial Inspection on the dataset"
   ]
  },
  {
   "cell_type": "code",
   "execution_count": 3,
   "id": "76b35679",
   "metadata": {},
   "outputs": [
    {
     "name": "stdout",
     "output_type": "stream",
     "text": [
      "+---+-------------------+--------------+--------------------------+---------------------------------+\n",
      "| ID|Region of residence|Age of Subject|Time spent on Online Class|Rating of Online Class experience|\n",
      "+---+-------------------+--------------+--------------------------+---------------------------------+\n",
      "| R1|          Delhi-NCR|            21|                         2|                             Good|\n",
      "| R2|          Delhi-NCR|            21|                         0|                        Excellent|\n",
      "| R3|          Delhi-NCR|            20|                         7|                        Very poor|\n",
      "| R4|          Delhi-NCR|            20|                         3|                        Very poor|\n",
      "| R5|          Delhi-NCR|            21|                         3|                             Good|\n",
      "| R6|          Delhi-NCR|            21|                         0|                        Very poor|\n",
      "| R7|          Delhi-NCR|            19|                         2|                        Very poor|\n",
      "| R8|  Outside Delhi-NCR|            19|                         2|                        Very poor|\n",
      "| R9|          Delhi-NCR|            21|                         3|                        Very poor|\n",
      "|R10|  Outside Delhi-NCR|            20|                         0|                        Very poor|\n",
      "+---+-------------------+--------------+--------------------------+---------------------------------+\n",
      "only showing top 10 rows\n",
      "\n",
      "+-----------------------+------------------------+---------------------+-------------------+\n",
      "|Medium for online class|Time spent on self study|Time spent on fitness|Time spent on sleep|\n",
      "+-----------------------+------------------------+---------------------+-------------------+\n",
      "|         Laptop/Desktop|                       4|                    0|                  7|\n",
      "|             Smartphone|                       0|                    2|                 10|\n",
      "|         Laptop/Desktop|                       3|                    0|                  6|\n",
      "|             Smartphone|                       2|                    1|                  6|\n",
      "|         Laptop/Desktop|                       3|                    1|                  8|\n",
      "|             Smartphone|                       6|                    0|                  5|\n",
      "|             Smartphone|                       2|                    1|                  5|\n",
      "|                 Tablet|                       1|                    1|                 10|\n",
      "|         Laptop/Desktop|                       4|                    1|                  8|\n",
      "|         Laptop/Desktop|                       1|                  0.5|                  8|\n",
      "+-----------------------+------------------------+---------------------+-------------------+\n",
      "only showing top 10 rows\n",
      "\n",
      "+--------------------------+------------------------------+----------------+-----------------------+\n",
      "|Time spent on social media|Prefered social media platform|Time spent on TV|Number of meals per day|\n",
      "+--------------------------+------------------------------+----------------+-----------------------+\n",
      "|                         3|                      Linkedin|               1|                      4|\n",
      "|                         3|                       Youtube|               0|                      3|\n",
      "|                         2|                      Linkedin|               0|                      3|\n",
      "|                         5|                     Instagram|               0|                      3|\n",
      "|                         3|                     Instagram|               1|                      4|\n",
      "|                         1|                       Youtube|               0|                      1|\n",
      "|                         4|                     Instagram|               0|                      3|\n",
      "|                         5|                     Instagram|               0|                      3|\n",
      "|                         2|                      Whatsapp|               1|                      3|\n",
      "|                         5|                     Instagram|               3|                      3|\n",
      "+--------------------------+------------------------------+----------------+-----------------------+\n",
      "only showing top 10 rows\n",
      "\n",
      "+---------------------+----------------------------+--------------------+-------------+\n",
      "|Change in your weight|Health issue during lockdown|      Stress busters|Time utilized|\n",
      "+---------------------+----------------------------+--------------------+-------------+\n",
      "|            Increased|                          NO|             Cooking|          YES|\n",
      "|            Decreased|                          NO|Scrolling through...|          YES|\n",
      "|      Remain Constant|                          NO|  Listening to music|           NO|\n",
      "|            Decreased|                          NO| Watching web series|           NO|\n",
      "|      Remain Constant|                          NO|        Social Media|           NO|\n",
      "|            Decreased|                         YES|Coding and studyi...|           NO|\n",
      "|            Increased|                          NO| Watching web series|           NO|\n",
      "|            Increased|                         YES|Scrolling through...|           NO|\n",
      "|            Increased|                          NO|      Online surfing|           NO|\n",
      "|            Decreased|                         YES|live stream watching|           NO|\n",
      "+---------------------+----------------------------+--------------------+-------------+\n",
      "only showing top 10 rows\n",
      "\n",
      "+----------------------------------------------------------------------------------+----------------------+\n",
      "|Do you find yourself more connected with your family, close friends , relatives  ?|What you miss the most|\n",
      "+----------------------------------------------------------------------------------+----------------------+\n",
      "|                                                                               YES|        School/college|\n",
      "|                                                                                NO|  Roaming around fr...|\n",
      "|                                                                               YES|            Travelling|\n",
      "|                                                                                NO|   Friends , relatives|\n",
      "|                                                                                NO|            Travelling|\n",
      "|                                                                               YES|        School/college|\n",
      "|                                                                               YES|   Friends , relatives|\n",
      "|                                                                               YES|        Eating outside|\n",
      "|                                                                                NO|   Friends , relatives|\n",
      "|                                                                                NO|        School/college|\n",
      "+----------------------------------------------------------------------------------+----------------------+\n",
      "only showing top 10 rows\n",
      "\n"
     ]
    }
   ],
   "source": [
    "# Understanding the data by showing the top 10 rows and displaying specific columns in a clear and tidy format (to avoid output being truncated)\n",
    "df.select(\"ID\", \"Region of residence\", \"Age of Subject\", \"Time spent on Online Class\", \"Rating of Online Class experience\").show(10)\n",
    "df.select(\"Medium for online class\", \"Time spent on self study\", \"Time spent on fitness\", \"Time spent on sleep\").show(10)\n",
    "df.select(\"Time spent on social media\", \"Prefered social media platform\", \"Time spent on TV\", \"Number of meals per day\").show(10)\n",
    "df.select(\"Change in your weight\", \"Health issue during lockdown\", \"Stress busters\", \"Time utilized\").show(10)\n",
    "df.select(\"Do you find yourself more connected with your family, close friends , relatives  ?\", \"What you miss the most\").show(10)\n"
   ]
  },
  {
   "cell_type": "markdown",
   "id": "46ce5c44",
   "metadata": {},
   "source": [
    "# Step 2.2 Describing the data"
   ]
  },
  {
   "cell_type": "code",
   "execution_count": 4,
   "id": "c27dfe79",
   "metadata": {},
   "outputs": [
    {
     "name": "stdout",
     "output_type": "stream",
     "text": [
      "root\n",
      " |-- ID: string (nullable = true)\n",
      " |-- Region of residence: string (nullable = true)\n",
      " |-- Age of Subject: string (nullable = true)\n",
      " |-- Time spent on Online Class: string (nullable = true)\n",
      " |-- Rating of Online Class experience: string (nullable = true)\n",
      " |-- Medium for online class: string (nullable = true)\n",
      " |-- Time spent on self study: string (nullable = true)\n",
      " |-- Time spent on fitness: string (nullable = true)\n",
      " |-- Time spent on sleep: string (nullable = true)\n",
      " |-- Time spent on social media: string (nullable = true)\n",
      " |-- Prefered social media platform: string (nullable = true)\n",
      " |-- Time spent on TV: string (nullable = true)\n",
      " |-- Number of meals per day: string (nullable = true)\n",
      " |-- Change in your weight: string (nullable = true)\n",
      " |-- Health issue during lockdown: string (nullable = true)\n",
      " |-- Stress busters: string (nullable = true)\n",
      " |-- Time utilized: string (nullable = true)\n",
      " |-- Do you find yourself more connected with your family, close friends , relatives  ?: string (nullable = true)\n",
      " |-- What you miss the most: string (nullable = true)\n",
      "\n"
     ]
    }
   ],
   "source": [
    "# Obtaining the data type of each column\n",
    "df.printSchema()"
   ]
  },
  {
   "cell_type": "code",
   "execution_count": 5,
   "id": "b0d4b078",
   "metadata": {},
   "outputs": [
    {
     "data": {
      "text/plain": [
       "1182"
      ]
     },
     "execution_count": 5,
     "metadata": {},
     "output_type": "execute_result"
    }
   ],
   "source": [
    "df.count()"
   ]
  },
  {
   "cell_type": "code",
   "execution_count": 6,
   "id": "26af394a",
   "metadata": {},
   "outputs": [
    {
     "data": {
      "text/plain": [
       "19"
      ]
     },
     "execution_count": 6,
     "metadata": {},
     "output_type": "execute_result"
    }
   ],
   "source": [
    "len(df.columns)"
   ]
  },
  {
   "cell_type": "markdown",
   "id": "96518bec",
   "metadata": {},
   "source": [
    "# Step 2.3: Data exploration"
   ]
  },
  {
   "cell_type": "code",
   "execution_count": 7,
   "id": "220f61fd",
   "metadata": {},
   "outputs": [
    {
     "name": "stdout",
     "output_type": "stream",
     "text": [
      "Defaulting to user installation because normal site-packages is not writeable\n",
      "Requirement already satisfied: seaborn in /home/ubuntu/.local/lib/python3.10/site-packages (0.11.2)\n",
      "Requirement already satisfied: numpy>=1.15 in /home/ubuntu/.local/lib/python3.10/site-packages (from seaborn) (1.22.4)\n",
      "Requirement already satisfied: scipy>=1.0 in /home/ubuntu/.local/lib/python3.10/site-packages (from seaborn) (1.8.1)\n",
      "Requirement already satisfied: pandas>=0.23 in /home/ubuntu/.local/lib/python3.10/site-packages (from seaborn) (1.4.2)\n",
      "Requirement already satisfied: matplotlib>=2.2 in /home/ubuntu/.local/lib/python3.10/site-packages (from seaborn) (3.5.2)\n",
      "Requirement already satisfied: cycler>=0.10 in /home/ubuntu/.local/lib/python3.10/site-packages (from matplotlib>=2.2->seaborn) (0.11.0)\n",
      "Requirement already satisfied: fonttools>=4.22.0 in /home/ubuntu/.local/lib/python3.10/site-packages (from matplotlib>=2.2->seaborn) (4.33.3)\n",
      "Requirement already satisfied: kiwisolver>=1.0.1 in /home/ubuntu/.local/lib/python3.10/site-packages (from matplotlib>=2.2->seaborn) (1.4.2)\n",
      "Requirement already satisfied: packaging>=20.0 in /home/ubuntu/.local/lib/python3.10/site-packages (from matplotlib>=2.2->seaborn) (21.3)\n",
      "Requirement already satisfied: pillow>=6.2.0 in /home/ubuntu/.local/lib/python3.10/site-packages (from matplotlib>=2.2->seaborn) (9.1.1)\n",
      "Requirement already satisfied: pyparsing>=2.2.1 in /usr/lib/python3/dist-packages (from matplotlib>=2.2->seaborn) (2.4.7)\n",
      "Requirement already satisfied: python-dateutil>=2.7 in /home/ubuntu/.local/lib/python3.10/site-packages (from matplotlib>=2.2->seaborn) (2.8.2)\n",
      "Requirement already satisfied: pytz>=2020.1 in /usr/lib/python3/dist-packages (from pandas>=0.23->seaborn) (2022.1)\n",
      "Requirement already satisfied: six>=1.5 in /usr/lib/python3/dist-packages (from python-dateutil>=2.7->matplotlib>=2.2->seaborn) (1.16.0)\n",
      "\u001b[33mDEPRECATION: distro-info 1.1build1 has a non-standard version number. pip 23.3 will enforce this behaviour change. A possible replacement is to upgrade to a newer version of distro-info or contact the author to suggest that they release a version with a conforming version number. Discussion can be found at https://github.com/pypa/pip/issues/12063\u001b[0m\u001b[33m\n",
      "\u001b[0m\u001b[33mDEPRECATION: python-debian 0.1.43ubuntu1 has a non-standard version number. pip 23.3 will enforce this behaviour change. A possible replacement is to upgrade to a newer version of python-debian or contact the author to suggest that they release a version with a conforming version number. Discussion can be found at https://github.com/pypa/pip/issues/12063\u001b[0m\u001b[33m\n",
      "\u001b[0mDefaulting to user installation because normal site-packages is not writeable\n",
      "Requirement already satisfied: pip in /home/ubuntu/.local/lib/python3.10/site-packages (23.2.1)\n",
      "\u001b[33mDEPRECATION: distro-info 1.1build1 has a non-standard version number. pip 23.3 will enforce this behaviour change. A possible replacement is to upgrade to a newer version of distro-info or contact the author to suggest that they release a version with a conforming version number. Discussion can be found at https://github.com/pypa/pip/issues/12063\u001b[0m\u001b[33m\n",
      "\u001b[0m\u001b[33mDEPRECATION: python-debian 0.1.43ubuntu1 has a non-standard version number. pip 23.3 will enforce this behaviour change. A possible replacement is to upgrade to a newer version of python-debian or contact the author to suggest that they release a version with a conforming version number. Discussion can be found at https://github.com/pypa/pip/issues/12063\u001b[0m\u001b[33m\n",
      "\u001b[0m"
     ]
    }
   ],
   "source": [
    "!pip3 install seaborn\n",
    "!pip3 install --upgrade pip\n",
    "import numpy as np\n",
    "import pandas\n",
    "import seaborn as sns\n",
    "import matplotlib.pyplot as plt\n",
    "from scipy import stats"
   ]
  },
  {
   "cell_type": "code",
   "execution_count": 8,
   "id": "77abccf2",
   "metadata": {},
   "outputs": [
    {
     "data": {
      "image/png": "[encoded data removed]",
      "text/plain": [
       "<Figure size 1440x720 with 1 Axes>"
      ]
     },
     "metadata": {
      "needs_background": "light"
     },
     "output_type": "display_data"
    }
   ],
   "source": [
    "#PySpark doesn't provide as extensive plotting capabilities as Pandas and Matplotlib\n",
    "#So could not use pyspark to create the histogram for the 'Region of residence' column\n",
    "from pandas import read_csv\n",
    "import pandas as pd\n",
    "from matplotlib import pyplot\n",
    "\n",
    "dfpd=pd.read_csv('./Datasets/COVID-19 Survey Student Responses.csv')\n",
    "\n",
    "sns.set(style='darkgrid')\n",
    "plt.figure(figsize=(20,10))\n",
    "ax = sns.countplot(x='Region of residence', data=dfpd)\n",
    "# Calculate percentages\n",
    "total = len(dfpd)\n",
    "counts = dfpd['Region of residence'].value_counts()\n",
    "percentages = counts / total * 100\n",
    "# Annotate the bars with percentage labels\n",
    "for i, p in enumerate(ax.patches):\n",
    "    height = p.get_height()\n",
    "    ax.annotate(f'{percentages[i]:.1f}%',\n",
    "    (p.get_x() + p.get_width() / 2., height),\n",
    "    ha='center', va='bottom')\n",
    "plt.xlabel('Region of residence')\n",
    "plt.ylabel('Count')\n",
    "plt.title('Distribution of Region of residence')\n",
    "plt.show()"
   ]
  },
  {
   "cell_type": "code",
   "execution_count": 9,
   "id": "1ba90303",
   "metadata": {},
   "outputs": [
    {
     "name": "stderr",
     "output_type": "stream",
     "text": [
      "*c* argument looks like a single numeric RGB or RGBA sequence, which should be avoided as value-mapping will have precedence in case its length matches with *x* & *y*.  Please use the *color* keyword-argument or provide a 2D array with a single row if you intend to specify the same RGB or RGBA value for all points.\n"
     ]
    },
    {
     "data": {
      "image/png": "[encoded data removed]",
      "text/plain": [
       "<Figure size 432x288 with 1 Axes>"
      ]
     },
     "metadata": {
      "needs_background": "light"
     },
     "output_type": "display_data"
    }
   ],
   "source": [
    "#PySpark doesn't provide as extensive plotting capabilities as Pandas and Matplotlib\n",
    "#So could not use pyspark to create the scatter plot\n",
    "dfpd.plot(kind='scatter', x='Age of Subject', y='Region of residence')\n",
    "plt.show()"
   ]
  },
  {
   "cell_type": "code",
   "execution_count": 10,
   "id": "c0dcada6",
   "metadata": {},
   "outputs": [
    {
     "name": "stdout",
     "output_type": "stream",
     "text": [
      "+---+-------------------+--------------+--------------------------+---------------------------------+-----------------------+------------------------+---------------------+-------------------+--------------------------+------------------------------+----------------+-----------------------+---------------------+----------------------------+--------------+-------------+----------------------------------------------------------------------------------+----------------------+\n",
      "| ID|Region of residence|Age of Subject|Time spent on Online Class|Rating of Online Class experience|Medium for online class|Time spent on self study|Time spent on fitness|Time spent on sleep|Time spent on social media|Prefered social media platform|Time spent on TV|Number of meals per day|Change in your weight|Health issue during lockdown|Stress busters|Time utilized|Do you find yourself more connected with your family, close friends , relatives  ?|What you miss the most|\n",
      "+---+-------------------+--------------+--------------------------+---------------------------------+-----------------------+------------------------+---------------------+-------------------+--------------------------+------------------------------+----------------+-----------------------+---------------------+----------------------------+--------------+-------------+----------------------------------------------------------------------------------+----------------------+\n",
      "|  0|                  0|             0|                         0|                                0|                      0|                       0|                    0|                  0|                         0|                             0|               0|                      0|                    0|                           0|             0|            0|                                                                                 0|                     0|\n",
      "+---+-------------------+--------------+--------------------------+---------------------------------+-----------------------+------------------------+---------------------+-------------------+--------------------------+------------------------------+----------------+-----------------------+---------------------+----------------------------+--------------+-------------+----------------------------------------------------------------------------------+----------------------+\n",
      "\n"
     ]
    }
   ],
   "source": [
    "### Use pyspark to count both null and missing values\n",
    "from pyspark.sql.functions import isnan, when, count, col\n",
    "df.select([count(when(isnan(c) | col(c).isNull(), c)).alias(c) for c in df.columns]).show()"
   ]
  },
  {
   "cell_type": "code",
   "execution_count": 11,
   "id": "2d52669a",
   "metadata": {},
   "outputs": [
    {
     "data": {
      "image/png": "[encoded data removed]",
      "text/plain": [
       "<Figure size 1440x720 with 1 Axes>"
      ]
     },
     "metadata": {},
     "output_type": "display_data"
    }
   ],
   "source": [
    "#PySpark doesn't provide as extensive plotting capabilities as Pandas and Matplotlib\n",
    "#So could not use pyspark to create the bar chart\n",
    "sns.set(style='darkgrid')\n",
    "plt.figure(figsize=(20, 10))\n",
    "ax = sns.countplot(x='Medium for online class', data=dfpd, palette='Set1') # Change the palette for visualization\n",
    "# Calculate percentages\n",
    "total = len(dfpd)\n",
    "counts = dfpd['Medium for online class'].value_counts()\n",
    "percentages = counts / total * 100\n",
    "# Annotate the bars with percentage labels\n",
    "for i, p in enumerate(ax.patches):\n",
    "    height = p.get_height()\n",
    "    ax.annotate(f'{percentages[i]:.1f}%',\n",
    "    (p.get_x() + p.get_width() / 2., height),\n",
    "    ha='center', va='bottom')\n",
    "plt.xlabel('Medium for online class')\n",
    "plt.ylabel('Count')\n",
    "plt.title('Distribution of Medium for online class')\n",
    "plt.show()"
   ]
  },
  {
   "cell_type": "code",
   "execution_count": 12,
   "id": "7151a501",
   "metadata": {},
   "outputs": [
    {
     "name": "stdout",
     "output_type": "stream",
     "text": [
      "Unique values of time spent on TV:\n",
      "+----------------+\n",
      "|Time spent on TV|\n",
      "+----------------+\n",
      "|               7|\n",
      "|            0.75|\n",
      "|              15|\n",
      "|             0.3|\n",
      "|               3|\n",
      "|               8|\n",
      "|            0.25|\n",
      "|             4.5|\n",
      "|               0|\n",
      "|             2.5|\n",
      "|               5|\n",
      "|               n|\n",
      "|             3.5|\n",
      "|               6|\n",
      "|             0.5|\n",
      "|             0.6|\n",
      "|               N|\n",
      "|             0.1|\n",
      "|             1.5|\n",
      "|               1|\n",
      "|               4|\n",
      "|                |\n",
      "|           No tv|\n",
      "|               2|\n",
      "|             0.4|\n",
      "+----------------+\n",
      "\n",
      "\n",
      "Counts of each unique time:\n",
      "+----------------+-----+\n",
      "|Time spent on TV|count|\n",
      "+----------------+-----+\n",
      "|               7|    2|\n",
      "|            0.75|    1|\n",
      "|              15|    1|\n",
      "|             0.3|   12|\n",
      "|               3|   50|\n",
      "|               8|    2|\n",
      "|            0.25|    1|\n",
      "|             4.5|    2|\n",
      "|               0|  441|\n",
      "|             2.5|    2|\n",
      "|               5|   10|\n",
      "|               n|    1|\n",
      "|             3.5|    1|\n",
      "|               6|    9|\n",
      "|             0.5|   78|\n",
      "|             0.6|    1|\n",
      "|               N|    7|\n",
      "|             0.1|    4|\n",
      "|             1.5|   14|\n",
      "|               1|  306|\n",
      "|               4|   24|\n",
      "|                |    2|\n",
      "|           No tv|    3|\n",
      "|               2|  207|\n",
      "|             0.4|    1|\n",
      "+----------------+-----+\n",
      "\n"
     ]
    }
   ],
   "source": [
    "#'df' is PySpark DataFrame\n",
    "\n",
    "# Extract unique values from the 'Time spent on TV' column\n",
    "unique_times = df.select('Time spent on TV').distinct()\n",
    "\n",
    "# Count the occurrences of each unique value\n",
    "time_counts = df.groupBy('Time spent on TV').agg(count('*').alias('count'))\n",
    "\n",
    "# Collect the results and print them\n",
    "print(\"Unique values of time spent on TV:\")\n",
    "unique_times.show(30)\n",
    "\n",
    "print(\"\\nCounts of each unique time:\")\n",
    "time_counts.show(30)"
   ]
  },
  {
   "cell_type": "code",
   "execution_count": 13,
   "id": "f1f899c9",
   "metadata": {},
   "outputs": [
    {
     "name": "stdout",
     "output_type": "stream",
     "text": [
      "Unique values of What you miss the most:\n",
      "+----------------------+\n",
      "|What you miss the most|\n",
      "+----------------------+\n",
      "|  school, relatives...|\n",
      "|  Eating outside an...|\n",
      "|  Roaming around fr...|\n",
      "|                   Job|\n",
      "|                   ALL|\n",
      "|  Friends,Romaing a...|\n",
      "|  Travelling & Friends|\n",
      "|              Nothing |\n",
      "|            everything|\n",
      "|               Family |\n",
      "|     Previous mistakes|\n",
      "|  Friends and roami...|\n",
      "|        School/college|\n",
      "|  Friends, relative...|\n",
      "|  I have missed not...|\n",
      "|   Taking kids to park|\n",
      "|  Nah, this is my u...|\n",
      "|    Badminton in court|\n",
      "|               NOTHING|\n",
      "|         All the above|\n",
      "|                     .|\n",
      "|              Internet|\n",
      "|   Going to the movies|\n",
      "|                Family|\n",
      "|   School and friends.|\n",
      "|               nothing|\n",
      "|          Only friends|\n",
      "|                   All|\n",
      "|           Normal life|\n",
      "|       To stay alone. |\n",
      "|               Playing|\n",
      "|            Colleagues|\n",
      "|             All above|\n",
      "|     All of the above |\n",
      "|     My normal routine|\n",
      "|  School and my sch...|\n",
      "|                  All |\n",
      "|   Friends , relatives|\n",
      "|           All of them|\n",
      "|  Nothing this is m...|\n",
      "|            Travelling|\n",
      "|                   Gym|\n",
      "|        Eating outside|\n",
      "|      all of the above|\n",
      "|    Friends and School|\n",
      "|                   all|\n",
      "|  The idea of being...|\n",
      "|               Nothing|\n",
      "|         Being social |\n",
      "|              Football|\n",
      "|                 Metro|\n",
      "+----------------------+\n",
      "\n"
     ]
    }
   ],
   "source": [
    "#'df' is PySpark DataFrame\n",
    "\n",
    "# Extract unique values from the 'What you miss the most' column\n",
    "unique_times = df.select('What you miss the most').distinct()\n",
    "\n",
    "# Collect the results and print them\n",
    "print(\"Unique values of What you miss the most:\")\n",
    "unique_times.show(80)"
   ]
  },
  {
   "cell_type": "code",
   "execution_count": 24,
   "id": "d30604be",
   "metadata": {},
   "outputs": [
    {
     "name": "stdout",
     "output_type": "stream",
     "text": [
      "+-------------------+------------------+\n",
      "|Region of residence|Residential Region|\n",
      "+-------------------+------------------+\n",
      "|          Delhi-NCR|                 1|\n",
      "|          Delhi-NCR|                 1|\n",
      "|          Delhi-NCR|                 1|\n",
      "|          Delhi-NCR|                 1|\n",
      "|          Delhi-NCR|                 1|\n",
      "|          Delhi-NCR|                 1|\n",
      "|          Delhi-NCR|                 1|\n",
      "|  Outside Delhi-NCR|                 0|\n",
      "|          Delhi-NCR|                 1|\n",
      "|  Outside Delhi-NCR|                 0|\n",
      "|          Delhi-NCR|                 1|\n",
      "|          Delhi-NCR|                 1|\n",
      "|          Delhi-NCR|                 1|\n",
      "|  Outside Delhi-NCR|                 0|\n",
      "|          Delhi-NCR|                 1|\n",
      "|          Delhi-NCR|                 1|\n",
      "|  Outside Delhi-NCR|                 0|\n",
      "|          Delhi-NCR|                 1|\n",
      "|          Delhi-NCR|                 1|\n",
      "|          Delhi-NCR|                 1|\n",
      "+-------------------+------------------+\n",
      "only showing top 20 rows\n",
      "\n"
     ]
    }
   ],
   "source": [
    "df2 = df.withColumn(\"Residential Region\", when(df[\"Region of residence\"] == \"Delhi-NCR\", 1).otherwise(0))\n",
    "\n",
    "region = df2.select(\"Region of residence\", \"Residential Region\")\n",
    "region.show()"
   ]
  },
  {
   "cell_type": "code",
   "execution_count": 38,
   "id": "1846b95f",
   "metadata": {},
   "outputs": [
    {
     "name": "stdout",
     "output_type": "stream",
     "text": [
      "+---+-------------------+--------------+--------------------------+---------------------------------+-----------------------+------------------------+---------------------+-------------------+--------------------------+------------------------------+----------------+-----------------------+---------------------+----------------------------+--------------------+-------------+----------------------------------------------------------------------------------+----------------------+------------------+\n",
      "| ID|Region of residence|Age of Subject|Time spent on Online Class|Rating of Online Class experience|Medium for online class|Time spent on self study|Time spent on fitness|Time spent on sleep|Time spent on social media|Prefered social media platform|Time spent on TV|Number of meals per day|Change in your weight|Health issue during lockdown|      Stress busters|Time utilized|Do you find yourself more connected with your family, close friends , relatives  ?|What you miss the most|Residential Region|\n",
      "+---+-------------------+--------------+--------------------------+---------------------------------+-----------------------+------------------------+---------------------+-------------------+--------------------------+------------------------------+----------------+-----------------------+---------------------+----------------------------+--------------------+-------------+----------------------------------------------------------------------------------+----------------------+------------------+\n",
      "| R1|          Delhi-NCR|            21|                         2|                             Good|         Laptop/Desktop|                       4|                    0|                  7|                         3|                      Linkedin|               1|                      4|            Increased|                          NO|             Cooking|          YES|                                                                               YES|        School/college|                 1|\n",
      "| R2|          Delhi-NCR|            21|                         0|                        Excellent|             Smartphone|                       0|                    2|                 10|                         3|                       Youtube|               0|                      3|            Decreased|                          NO|Scrolling through...|          YES|                                                                                NO|  Roaming around fr...|                 1|\n",
      "| R3|          Delhi-NCR|            20|                         7|                        Very poor|         Laptop/Desktop|                       3|                    0|                  6|                         2|                      Linkedin|               0|                      3|      Remain Constant|                          NO|  Listening to music|           NO|                                                                               YES|            Travelling|                 1|\n",
      "| R4|          Delhi-NCR|            20|                         3|                        Very poor|             Smartphone|                       2|                    1|                  6|                         5|                     Instagram|               0|                      3|            Decreased|                          NO| Watching web series|           NO|                                                                                NO|   Friends , relatives|                 1|\n",
      "| R5|          Delhi-NCR|            21|                         3|                             Good|         Laptop/Desktop|                       3|                    1|                  8|                         3|                     Instagram|               1|                      4|      Remain Constant|                          NO|        Social Media|           NO|                                                                                NO|            Travelling|                 1|\n",
      "| R6|          Delhi-NCR|            21|                         0|                        Very poor|             Smartphone|                       6|                    0|                  5|                         1|                       Youtube|               0|                      1|            Decreased|                         YES|Coding and studyi...|           NO|                                                                               YES|        School/college|                 1|\n",
      "| R7|          Delhi-NCR|            19|                         2|                        Very poor|             Smartphone|                       2|                    1|                  5|                         4|                     Instagram|               0|                      3|            Increased|                          NO| Watching web series|           NO|                                                                               YES|   Friends , relatives|                 1|\n",
      "| R8|  Outside Delhi-NCR|            19|                         2|                        Very poor|                 Tablet|                       1|                    1|                 10|                         5|                     Instagram|               0|                      3|            Increased|                         YES|Scrolling through...|           NO|                                                                               YES|        Eating outside|                 0|\n",
      "| R9|          Delhi-NCR|            21|                         3|                        Very poor|         Laptop/Desktop|                       4|                    1|                  8|                         2|                      Whatsapp|               1|                      3|            Increased|                          NO|      Online surfing|           NO|                                                                                NO|   Friends , relatives|                 1|\n",
      "|R10|  Outside Delhi-NCR|            20|                         0|                        Very poor|         Laptop/Desktop|                       1|                  0.5|                  8|                         5|                     Instagram|               3|                      3|            Decreased|                         YES|live stream watching|           NO|                                                                                NO|        School/college|                 0|\n",
      "|R11|          Delhi-NCR|            21|                         3|                             Good|         Laptop/Desktop|                       3|                    1|                  8|                         3|                     Instagram|               1|                      4|      Remain Constant|                          NO|        Social Media|           NO|                                                                                NO|            Colleagues|                 1|\n",
      "|R12|          Delhi-NCR|            21|                         1|                        Very poor|         Laptop/Desktop|                       0|                    1|                  7|                         3|                     Instagram|               1|                      2|            Increased|                         YES| Watching web series|          YES|                                                                               YES|        Eating outside|                 1|\n",
      "|R13|          Delhi-NCR|            21|                         3|                          Average|         Laptop/Desktop|                       0|                    0|                  8|                         3|                     Instagram|               0|                      3|            Increased|                         YES|  Listening to music|           NO|                                                                                NO|        School/college|                 1|\n",
      "|R14|  Outside Delhi-NCR|            22|                         1|                             Good|         Laptop/Desktop|                       2|                    0|                  7|                         0|                          None|             0.5|                      2|            Increased|                          NO|             Reading|          YES|                                                                               YES|            Travelling|                 0|\n",
      "|R15|          Delhi-NCR|            20|                         5|                        Very poor|         Laptop/Desktop|                       1|                    0|                  8|                         3|                     Instagram|               0|                      3|      Remain Constant|                          NO|Scrolling through...|           NO|                                                                                NO|        Eating outside|                 1|\n",
      "|R16|          Delhi-NCR|            22|                         3|                          Average|             Smartphone|                       3|                    1|                  6|                         2|                     Instagram|               1|                      3|            Increased|                          NO|       Online gaming|          YES|                                                                               YES|        Eating outside|                 1|\n",
      "|R17|  Outside Delhi-NCR|            20|                         0|                             Good|             Smartphone|                       0|                    0|                  8|                         2|                        Reddit|               1|                      3|            Increased|                          NO|       Online gaming|           NO|                                                                               YES|            Colleagues|                 0|\n",
      "|R18|          Delhi-NCR|            20|                         1|                        Very poor|             Smartphone|                       2|                    1|                  8|                         1|                       Youtube|               0|                      3|      Remain Constant|                          NO|  Listening to music|           NO|                                                                                NO|  Roaming around fr...|                 1|\n",
      "|R19|          Delhi-NCR|            21|                         0|                        Very poor|         Laptop/Desktop|                       4|                    0|                  7|                         7|                       Youtube|               n|                      2|      Remain Constant|                          NO|       Reading books|           NO|                                                                                NO|   Friends , relatives|                 1|\n",
      "|R20|          Delhi-NCR|            22|                         5|                        Very poor|             Smartphone|                       2|                    1|                  8|                         4|                     Instagram|               0|                      3|            Increased|                          NO|             Dancing|          YES|                                                                               YES|   Friends , relatives|                 1|\n",
      "+---+-------------------+--------------+--------------------------+---------------------------------+-----------------------+------------------------+---------------------+-------------------+--------------------------+------------------------------+----------------+-----------------------+---------------------+----------------------------+--------------------+-------------+----------------------------------------------------------------------------------+----------------------+------------------+\n",
      "only showing top 20 rows\n",
      "\n",
      "+---+-------------------+--------------+--------------------------+---------------------------------+-----------------------+------------------------+---------------------+-------------------+--------------------------+------------------------------+----------------+-----------------------+---------------------+----------------------------+--------------------+-------------+----------------------------------------------------------------------------------+----------------------+------------------+\n",
      "| ID|Region of residence|Age of Subject|Time spent on Online Class|Rating of Online Class experience|Medium for online class|Time spent on self study|Time spent on fitness|Time spent on sleep|Time spent on social media|Prefered social media platform|Time spent on TV|Number of meals per day|Change in your weight|Health issue during lockdown|      Stress busters|Time utilized|Do you find yourself more connected with your family, close friends , relatives  ?|What you miss the most|Residential Region|\n",
      "+---+-------------------+--------------+--------------------------+---------------------------------+-----------------------+------------------------+---------------------+-------------------+--------------------------+------------------------------+----------------+-----------------------+---------------------+----------------------------+--------------------+-------------+----------------------------------------------------------------------------------+----------------------+------------------+\n",
      "| R1|          Delhi-NCR|            21|                         2|                             Good|         Laptop/Desktop|                       4|                    0|                  7|                         3|                      Linkedin|               1|                      4|            Increased|                          NO|             Cooking|          YES|                                                                               YES|        School/college|                 1|\n",
      "| R2|          Delhi-NCR|            21|                         0|                        Excellent|             Smartphone|                       0|                    2|                 10|                         3|                       Youtube|               0|                      3|            Decreased|                          NO|Scrolling through...|          YES|                                                                                NO|  Roaming around fr...|                 1|\n",
      "| R3|          Delhi-NCR|            20|                         7|                        Very poor|         Laptop/Desktop|                       3|                    0|                  6|                         2|                      Linkedin|               0|                      3|      Remain Constant|                          NO|  Listening to music|           NO|                                                                               YES|            Travelling|                 1|\n",
      "| R4|          Delhi-NCR|            20|                         3|                        Very poor|             Smartphone|                       2|                    1|                  6|                         5|                     Instagram|               0|                      3|            Decreased|                          NO| Watching web series|           NO|                                                                                NO|   Friends , relatives|                 1|\n",
      "| R5|          Delhi-NCR|            21|                         3|                             Good|         Laptop/Desktop|                       3|                    1|                  8|                         3|                     Instagram|               1|                      4|      Remain Constant|                          NO|        Social Media|           NO|                                                                                NO|            Travelling|                 1|\n",
      "| R6|          Delhi-NCR|            21|                         0|                        Very poor|             Smartphone|                       6|                    0|                  5|                         1|                       Youtube|               0|                      1|            Decreased|                         YES|Coding and studyi...|           NO|                                                                               YES|        School/college|                 1|\n",
      "| R7|          Delhi-NCR|            19|                         2|                        Very poor|             Smartphone|                       2|                    1|                  5|                         4|                     Instagram|               0|                      3|            Increased|                          NO| Watching web series|           NO|                                                                               YES|   Friends , relatives|                 1|\n",
      "| R8|  Outside Delhi-NCR|            19|                         2|                        Very poor|                 Tablet|                       1|                    1|                 10|                         5|                     Instagram|               0|                      3|            Increased|                         YES|Scrolling through...|           NO|                                                                               YES|        Eating outside|                 0|\n",
      "| R9|          Delhi-NCR|            21|                         3|                        Very poor|         Laptop/Desktop|                       4|                    1|                  8|                         2|                      Whatsapp|               1|                      3|            Increased|                          NO|      Online surfing|           NO|                                                                                NO|   Friends , relatives|                 1|\n",
      "|R10|  Outside Delhi-NCR|            20|                         0|                        Very poor|         Laptop/Desktop|                       1|                  0.5|                  8|                         5|                     Instagram|               3|                      3|            Decreased|                         YES|live stream watching|           NO|                                                                                NO|        School/college|                 0|\n",
      "|R11|          Delhi-NCR|            21|                         3|                             Good|         Laptop/Desktop|                       3|                    1|                  8|                         3|                     Instagram|               1|                      4|      Remain Constant|                          NO|        Social Media|           NO|                                                                                NO|            Colleagues|                 1|\n",
      "|R12|          Delhi-NCR|            21|                         1|                        Very poor|         Laptop/Desktop|                       0|                    1|                  7|                         3|                     Instagram|               1|                      2|            Increased|                         YES| Watching web series|          YES|                                                                               YES|        Eating outside|                 1|\n",
      "|R13|          Delhi-NCR|            21|                         3|                          Average|         Laptop/Desktop|                       0|                    0|                  8|                         3|                     Instagram|               0|                      3|            Increased|                         YES|  Listening to music|           NO|                                                                                NO|        School/college|                 1|\n",
      "|R14|  Outside Delhi-NCR|            22|                         1|                             Good|         Laptop/Desktop|                       2|                    0|                  7|                         0|                          None|             0.5|                      2|            Increased|                          NO|             Reading|          YES|                                                                               YES|            Travelling|                 0|\n",
      "|R15|          Delhi-NCR|            20|                         5|                        Very poor|         Laptop/Desktop|                       1|                    0|                  8|                         3|                     Instagram|               0|                      3|      Remain Constant|                          NO|Scrolling through...|           NO|                                                                                NO|        Eating outside|                 1|\n",
      "|R16|          Delhi-NCR|            22|                         3|                          Average|             Smartphone|                       3|                    1|                  6|                         2|                     Instagram|               1|                      3|            Increased|                          NO|       Online gaming|          YES|                                                                               YES|        Eating outside|                 1|\n",
      "|R17|  Outside Delhi-NCR|            20|                         0|                             Good|             Smartphone|                       0|                    0|                  8|                         2|                        Reddit|               1|                      3|            Increased|                          NO|       Online gaming|           NO|                                                                               YES|            Colleagues|                 0|\n",
      "|R18|          Delhi-NCR|            20|                         1|                        Very poor|             Smartphone|                       2|                    1|                  8|                         1|                       Youtube|               0|                      3|      Remain Constant|                          NO|  Listening to music|           NO|                                                                                NO|  Roaming around fr...|                 1|\n",
      "|R19|          Delhi-NCR|            21|                         0|                        Very poor|         Laptop/Desktop|                       4|                    0|                  7|                         7|                       Youtube|               n|                      2|      Remain Constant|                          NO|       Reading books|           NO|                                                                                NO|   Friends , relatives|                 1|\n",
      "|R20|          Delhi-NCR|            22|                         5|                        Very poor|             Smartphone|                       2|                    1|                  8|                         4|                     Instagram|               0|                      3|            Increased|                          NO|             Dancing|          YES|                                                                               YES|   Friends , relatives|                 1|\n",
      "+---+-------------------+--------------+--------------------------+---------------------------------+-----------------------+------------------------+---------------------+-------------------+--------------------------+------------------------------+----------------+-----------------------+---------------------+----------------------------+--------------------+-------------+----------------------------------------------------------------------------------+----------------------+------------------+\n",
      "only showing top 20 rows\n",
      "\n"
     ]
    }
   ],
   "source": [
    "dfpd2 = df2"
   ]
  },
  {
   "cell_type": "code",
   "execution_count": 45,
   "id": "7f1d9714",
   "metadata": {},
   "outputs": [
    {
     "name": "stdout",
     "output_type": "stream",
     "text": [
      "Defaulting to user installation because normal site-packages is not writeable\n",
      "Requirement already satisfied: sklearn in /home/ubuntu/.local/lib/python3.10/site-packages (0.0.post9)\n",
      "\u001b[33mDEPRECATION: distro-info 1.1build1 has a non-standard version number. pip 23.3 will enforce this behaviour change. A possible replacement is to upgrade to a newer version of distro-info or contact the author to suggest that they release a version with a conforming version number. Discussion can be found at https://github.com/pypa/pip/issues/12063\u001b[0m\u001b[33m\n",
      "\u001b[0m\u001b[33mDEPRECATION: python-debian 0.1.43ubuntu1 has a non-standard version number. pip 23.3 will enforce this behaviour change. A possible replacement is to upgrade to a newer version of python-debian or contact the author to suggest that they release a version with a conforming version number. Discussion can be found at https://github.com/pypa/pip/issues/12063\u001b[0m\u001b[33m\n",
      "\u001b[0mDefaulting to user installation because normal site-packages is not writeable\n",
      "Requirement already satisfied: pip in /home/ubuntu/.local/lib/python3.10/site-packages (23.2.1)\n",
      "\u001b[33mDEPRECATION: distro-info 1.1build1 has a non-standard version number. pip 23.3 will enforce this behaviour change. A possible replacement is to upgrade to a newer version of distro-info or contact the author to suggest that they release a version with a conforming version number. Discussion can be found at https://github.com/pypa/pip/issues/12063\u001b[0m\u001b[33m\n",
      "\u001b[0m\u001b[33mDEPRECATION: python-debian 0.1.43ubuntu1 has a non-standard version number. pip 23.3 will enforce this behaviour change. A possible replacement is to upgrade to a newer version of python-debian or contact the author to suggest that they release a version with a conforming version number. Discussion can be found at https://github.com/pypa/pip/issues/12063\u001b[0m\u001b[33m\n",
      "\u001b[0mDefaulting to user installation because normal site-packages is not writeable\n",
      "Collecting scikit-learn\n",
      "  Obtaining dependency information for scikit-learn from https://files.pythonhosted.org/packages/7d/af/03d3a7d5719d00486c296ddd876e6f07a681bc4e079cb45348d2f261a748/scikit_learn-1.3.1-cp310-cp310-manylinux_2_17_x86_64.manylinux2014_x86_64.whl.metadata\n",
      "  Downloading scikit_learn-1.3.1-cp310-cp310-manylinux_2_17_x86_64.manylinux2014_x86_64.whl.metadata (11 kB)\n",
      "Requirement already satisfied: numpy<2.0,>=1.17.3 in /home/ubuntu/.local/lib/python3.10/site-packages (from scikit-learn) (1.22.4)\n",
      "Requirement already satisfied: scipy>=1.5.0 in /home/ubuntu/.local/lib/python3.10/site-packages (from scikit-learn) (1.8.1)\n",
      "Collecting joblib>=1.1.1 (from scikit-learn)\n",
      "  Obtaining dependency information for joblib>=1.1.1 from https://files.pythonhosted.org/packages/10/40/d551139c85db202f1f384ba8bcf96aca2f329440a844f924c8a0040b6d02/joblib-1.3.2-py3-none-any.whl.metadata\n",
      "  Downloading joblib-1.3.2-py3-none-any.whl.metadata (5.4 kB)\n",
      "Collecting threadpoolctl>=2.0.0 (from scikit-learn)\n",
      "  Obtaining dependency information for threadpoolctl>=2.0.0 from https://files.pythonhosted.org/packages/81/12/fd4dea011af9d69e1cad05c75f3f7202cdcbeac9b712eea58ca779a72865/threadpoolctl-3.2.0-py3-none-any.whl.metadata\n",
      "  Downloading threadpoolctl-3.2.0-py3-none-any.whl.metadata (10.0 kB)\n",
      "Downloading scikit_learn-1.3.1-cp310-cp310-manylinux_2_17_x86_64.manylinux2014_x86_64.whl (10.8 MB)\n",
      "\u001b[2K   \u001b[90m━━━━━━━━━━━━━━━━━━━━━━━━━━━━━━━━━━━━━━━━\u001b[0m \u001b[32m10.8/10.8 MB\u001b[0m \u001b[31m51.1 MB/s\u001b[0m eta \u001b[36m0:00:00\u001b[0m00:01\u001b[0m0:01\u001b[0m\n",
      "\u001b[?25hDownloading joblib-1.3.2-py3-none-any.whl (302 kB)\n",
      "\u001b[2K   \u001b[90m━━━━━━━━━━━━━━━━━━━━━━━━━━━━━━━━━━━━━━━━\u001b[0m \u001b[32m302.2/302.2 kB\u001b[0m \u001b[31m17.0 MB/s\u001b[0m eta \u001b[36m0:00:00\u001b[0m\n",
      "\u001b[?25hDownloading threadpoolctl-3.2.0-py3-none-any.whl (15 kB)\n",
      "\u001b[33mDEPRECATION: distro-info 1.1build1 has a non-standard version number. pip 23.3 will enforce this behaviour change. A possible replacement is to upgrade to a newer version of distro-info or contact the author to suggest that they release a version with a conforming version number. Discussion can be found at https://github.com/pypa/pip/issues/12063\u001b[0m\u001b[33m\n",
      "\u001b[0m\u001b[33mDEPRECATION: python-debian 0.1.43ubuntu1 has a non-standard version number. pip 23.3 will enforce this behaviour change. A possible replacement is to upgrade to a newer version of python-debian or contact the author to suggest that they release a version with a conforming version number. Discussion can be found at https://github.com/pypa/pip/issues/12063\u001b[0m\u001b[33m\n",
      "\u001b[0mInstalling collected packages: threadpoolctl, joblib, scikit-learn\n",
      "Successfully installed joblib-1.3.2 scikit-learn-1.3.1 threadpoolctl-3.2.0\n"
     ]
    },
    {
     "ename": "ValueError",
     "evalue": "Expected 2D array, got scalar array instead:\narray=DataFrame[Age of Subject: string, Time spent on Online Class: string, Rating of Online Class experience: string, Medium for online class: string, Time spent on self study: string, Time spent on fitness: string, Time spent on sleep: string, Time spent on social media: string, Prefered social media platform: string, Time spent on TV: string, Number of meals per day: string, Change in your weight: string, Health issue during lockdown: string, Stress busters: string, Time utilized: string, Do you find yourself more connected with your family, close friends , relatives  ?: string, What you miss the most: string].\nReshape your data either using array.reshape(-1, 1) if your data has a single feature or array.reshape(1, -1) if it contains a single sample.",
     "output_type": "error",
     "traceback": [
      "\u001b[0;31m---------------------------------------------------------------------------\u001b[0m",
      "\u001b[0;31mValueError\u001b[0m                                Traceback (most recent call last)",
      "Input \u001b[0;32mIn [45]\u001b[0m, in \u001b[0;36m<cell line: 18>\u001b[0;34m()\u001b[0m\n\u001b[1;32m     16\u001b[0m \u001b[38;5;66;03m#Produce and print scores for each categorical features in the data set\u001b[39;00m\n\u001b[1;32m     17\u001b[0m sf \u001b[38;5;241m=\u001b[39m SelectKBest(chi2, k\u001b[38;5;241m=\u001b[39m\u001b[38;5;124m'\u001b[39m\u001b[38;5;124mall\u001b[39m\u001b[38;5;124m'\u001b[39m)\n\u001b[0;32m---> 18\u001b[0m sf_fit \u001b[38;5;241m=\u001b[39m \u001b[43msf\u001b[49m\u001b[38;5;241;43m.\u001b[39;49m\u001b[43mfit\u001b[49m\u001b[43m(\u001b[49m\u001b[43mX1\u001b[49m\u001b[43m,\u001b[49m\u001b[43m \u001b[49m\u001b[43my1\u001b[49m\u001b[43m)\u001b[49m\n\u001b[1;32m     19\u001b[0m \u001b[38;5;66;03m#Print feature scores\u001b[39;00m\n\u001b[1;32m     20\u001b[0m \u001b[38;5;28;01mfor\u001b[39;00m i \u001b[38;5;129;01min\u001b[39;00m \u001b[38;5;28mrange\u001b[39m(\u001b[38;5;28mlen\u001b[39m(sf_fit\u001b[38;5;241m.\u001b[39mscores_)):\n",
      "File \u001b[0;32m~/.local/lib/python3.10/site-packages/sklearn/base.py:1152\u001b[0m, in \u001b[0;36m_fit_context.<locals>.decorator.<locals>.wrapper\u001b[0;34m(estimator, *args, **kwargs)\u001b[0m\n\u001b[1;32m   1145\u001b[0m     estimator\u001b[38;5;241m.\u001b[39m_validate_params()\n\u001b[1;32m   1147\u001b[0m \u001b[38;5;28;01mwith\u001b[39;00m config_context(\n\u001b[1;32m   1148\u001b[0m     skip_parameter_validation\u001b[38;5;241m=\u001b[39m(\n\u001b[1;32m   1149\u001b[0m         prefer_skip_nested_validation \u001b[38;5;129;01mor\u001b[39;00m global_skip_validation\n\u001b[1;32m   1150\u001b[0m     )\n\u001b[1;32m   1151\u001b[0m ):\n\u001b[0;32m-> 1152\u001b[0m     \u001b[38;5;28;01mreturn\u001b[39;00m \u001b[43mfit_method\u001b[49m\u001b[43m(\u001b[49m\u001b[43mestimator\u001b[49m\u001b[43m,\u001b[49m\u001b[43m \u001b[49m\u001b[38;5;241;43m*\u001b[39;49m\u001b[43margs\u001b[49m\u001b[43m,\u001b[49m\u001b[43m \u001b[49m\u001b[38;5;241;43m*\u001b[39;49m\u001b[38;5;241;43m*\u001b[39;49m\u001b[43mkwargs\u001b[49m\u001b[43m)\u001b[49m\n",
      "File \u001b[0;32m~/.local/lib/python3.10/site-packages/sklearn/feature_selection/_univariate_selection.py:498\u001b[0m, in \u001b[0;36m_BaseFilter.fit\u001b[0;34m(self, X, y)\u001b[0m\n\u001b[1;32m    480\u001b[0m \u001b[38;5;129m@_fit_context\u001b[39m(prefer_skip_nested_validation\u001b[38;5;241m=\u001b[39m\u001b[38;5;28;01mTrue\u001b[39;00m)\n\u001b[1;32m    481\u001b[0m \u001b[38;5;28;01mdef\u001b[39;00m \u001b[38;5;21mfit\u001b[39m(\u001b[38;5;28mself\u001b[39m, X, y):\n\u001b[1;32m    482\u001b[0m     \u001b[38;5;124;03m\"\"\"Run score function on (X, y) and get the appropriate features.\u001b[39;00m\n\u001b[1;32m    483\u001b[0m \n\u001b[1;32m    484\u001b[0m \u001b[38;5;124;03m    Parameters\u001b[39;00m\n\u001b[0;32m   (...)\u001b[0m\n\u001b[1;32m    496\u001b[0m \u001b[38;5;124;03m        Returns the instance itself.\u001b[39;00m\n\u001b[1;32m    497\u001b[0m \u001b[38;5;124;03m    \"\"\"\u001b[39;00m\n\u001b[0;32m--> 498\u001b[0m     X, y \u001b[38;5;241m=\u001b[39m \u001b[38;5;28;43mself\u001b[39;49m\u001b[38;5;241;43m.\u001b[39;49m\u001b[43m_validate_data\u001b[49m\u001b[43m(\u001b[49m\n\u001b[1;32m    499\u001b[0m \u001b[43m        \u001b[49m\u001b[43mX\u001b[49m\u001b[43m,\u001b[49m\u001b[43m \u001b[49m\u001b[43my\u001b[49m\u001b[43m,\u001b[49m\u001b[43m \u001b[49m\u001b[43maccept_sparse\u001b[49m\u001b[38;5;241;43m=\u001b[39;49m\u001b[43m[\u001b[49m\u001b[38;5;124;43m\"\u001b[39;49m\u001b[38;5;124;43mcsr\u001b[39;49m\u001b[38;5;124;43m\"\u001b[39;49m\u001b[43m,\u001b[49m\u001b[43m \u001b[49m\u001b[38;5;124;43m\"\u001b[39;49m\u001b[38;5;124;43mcsc\u001b[39;49m\u001b[38;5;124;43m\"\u001b[39;49m\u001b[43m]\u001b[49m\u001b[43m,\u001b[49m\u001b[43m \u001b[49m\u001b[43mmulti_output\u001b[49m\u001b[38;5;241;43m=\u001b[39;49m\u001b[38;5;28;43;01mTrue\u001b[39;49;00m\n\u001b[1;32m    500\u001b[0m \u001b[43m    \u001b[49m\u001b[43m)\u001b[49m\n\u001b[1;32m    502\u001b[0m     \u001b[38;5;28mself\u001b[39m\u001b[38;5;241m.\u001b[39m_check_params(X, y)\n\u001b[1;32m    503\u001b[0m     score_func_ret \u001b[38;5;241m=\u001b[39m \u001b[38;5;28mself\u001b[39m\u001b[38;5;241m.\u001b[39mscore_func(X, y)\n",
      "File \u001b[0;32m~/.local/lib/python3.10/site-packages/sklearn/base.py:622\u001b[0m, in \u001b[0;36mBaseEstimator._validate_data\u001b[0;34m(self, X, y, reset, validate_separately, cast_to_ndarray, **check_params)\u001b[0m\n\u001b[1;32m    620\u001b[0m         y \u001b[38;5;241m=\u001b[39m check_array(y, input_name\u001b[38;5;241m=\u001b[39m\u001b[38;5;124m\"\u001b[39m\u001b[38;5;124my\u001b[39m\u001b[38;5;124m\"\u001b[39m, \u001b[38;5;241m*\u001b[39m\u001b[38;5;241m*\u001b[39mcheck_y_params)\n\u001b[1;32m    621\u001b[0m     \u001b[38;5;28;01melse\u001b[39;00m:\n\u001b[0;32m--> 622\u001b[0m         X, y \u001b[38;5;241m=\u001b[39m \u001b[43mcheck_X_y\u001b[49m\u001b[43m(\u001b[49m\u001b[43mX\u001b[49m\u001b[43m,\u001b[49m\u001b[43m \u001b[49m\u001b[43my\u001b[49m\u001b[43m,\u001b[49m\u001b[43m \u001b[49m\u001b[38;5;241;43m*\u001b[39;49m\u001b[38;5;241;43m*\u001b[39;49m\u001b[43mcheck_params\u001b[49m\u001b[43m)\u001b[49m\n\u001b[1;32m    623\u001b[0m     out \u001b[38;5;241m=\u001b[39m X, y\n\u001b[1;32m    625\u001b[0m \u001b[38;5;28;01mif\u001b[39;00m \u001b[38;5;129;01mnot\u001b[39;00m no_val_X \u001b[38;5;129;01mand\u001b[39;00m check_params\u001b[38;5;241m.\u001b[39mget(\u001b[38;5;124m\"\u001b[39m\u001b[38;5;124mensure_2d\u001b[39m\u001b[38;5;124m\"\u001b[39m, \u001b[38;5;28;01mTrue\u001b[39;00m):\n",
      "File \u001b[0;32m~/.local/lib/python3.10/site-packages/sklearn/utils/validation.py:1146\u001b[0m, in \u001b[0;36mcheck_X_y\u001b[0;34m(X, y, accept_sparse, accept_large_sparse, dtype, order, copy, force_all_finite, ensure_2d, allow_nd, multi_output, ensure_min_samples, ensure_min_features, y_numeric, estimator)\u001b[0m\n\u001b[1;32m   1141\u001b[0m         estimator_name \u001b[38;5;241m=\u001b[39m _check_estimator_name(estimator)\n\u001b[1;32m   1142\u001b[0m     \u001b[38;5;28;01mraise\u001b[39;00m \u001b[38;5;167;01mValueError\u001b[39;00m(\n\u001b[1;32m   1143\u001b[0m         \u001b[38;5;124mf\u001b[39m\u001b[38;5;124m\"\u001b[39m\u001b[38;5;132;01m{\u001b[39;00mestimator_name\u001b[38;5;132;01m}\u001b[39;00m\u001b[38;5;124m requires y to be passed, but the target y is None\u001b[39m\u001b[38;5;124m\"\u001b[39m\n\u001b[1;32m   1144\u001b[0m     )\n\u001b[0;32m-> 1146\u001b[0m X \u001b[38;5;241m=\u001b[39m \u001b[43mcheck_array\u001b[49m\u001b[43m(\u001b[49m\n\u001b[1;32m   1147\u001b[0m \u001b[43m    \u001b[49m\u001b[43mX\u001b[49m\u001b[43m,\u001b[49m\n\u001b[1;32m   1148\u001b[0m \u001b[43m    \u001b[49m\u001b[43maccept_sparse\u001b[49m\u001b[38;5;241;43m=\u001b[39;49m\u001b[43maccept_sparse\u001b[49m\u001b[43m,\u001b[49m\n\u001b[1;32m   1149\u001b[0m \u001b[43m    \u001b[49m\u001b[43maccept_large_sparse\u001b[49m\u001b[38;5;241;43m=\u001b[39;49m\u001b[43maccept_large_sparse\u001b[49m\u001b[43m,\u001b[49m\n\u001b[1;32m   1150\u001b[0m \u001b[43m    \u001b[49m\u001b[43mdtype\u001b[49m\u001b[38;5;241;43m=\u001b[39;49m\u001b[43mdtype\u001b[49m\u001b[43m,\u001b[49m\n\u001b[1;32m   1151\u001b[0m \u001b[43m    \u001b[49m\u001b[43morder\u001b[49m\u001b[38;5;241;43m=\u001b[39;49m\u001b[43morder\u001b[49m\u001b[43m,\u001b[49m\n\u001b[1;32m   1152\u001b[0m \u001b[43m    \u001b[49m\u001b[43mcopy\u001b[49m\u001b[38;5;241;43m=\u001b[39;49m\u001b[43mcopy\u001b[49m\u001b[43m,\u001b[49m\n\u001b[1;32m   1153\u001b[0m \u001b[43m    \u001b[49m\u001b[43mforce_all_finite\u001b[49m\u001b[38;5;241;43m=\u001b[39;49m\u001b[43mforce_all_finite\u001b[49m\u001b[43m,\u001b[49m\n\u001b[1;32m   1154\u001b[0m \u001b[43m    \u001b[49m\u001b[43mensure_2d\u001b[49m\u001b[38;5;241;43m=\u001b[39;49m\u001b[43mensure_2d\u001b[49m\u001b[43m,\u001b[49m\n\u001b[1;32m   1155\u001b[0m \u001b[43m    \u001b[49m\u001b[43mallow_nd\u001b[49m\u001b[38;5;241;43m=\u001b[39;49m\u001b[43mallow_nd\u001b[49m\u001b[43m,\u001b[49m\n\u001b[1;32m   1156\u001b[0m \u001b[43m    \u001b[49m\u001b[43mensure_min_samples\u001b[49m\u001b[38;5;241;43m=\u001b[39;49m\u001b[43mensure_min_samples\u001b[49m\u001b[43m,\u001b[49m\n\u001b[1;32m   1157\u001b[0m \u001b[43m    \u001b[49m\u001b[43mensure_min_features\u001b[49m\u001b[38;5;241;43m=\u001b[39;49m\u001b[43mensure_min_features\u001b[49m\u001b[43m,\u001b[49m\n\u001b[1;32m   1158\u001b[0m \u001b[43m    \u001b[49m\u001b[43mestimator\u001b[49m\u001b[38;5;241;43m=\u001b[39;49m\u001b[43mestimator\u001b[49m\u001b[43m,\u001b[49m\n\u001b[1;32m   1159\u001b[0m \u001b[43m    \u001b[49m\u001b[43minput_name\u001b[49m\u001b[38;5;241;43m=\u001b[39;49m\u001b[38;5;124;43m\"\u001b[39;49m\u001b[38;5;124;43mX\u001b[39;49m\u001b[38;5;124;43m\"\u001b[39;49m\u001b[43m,\u001b[49m\n\u001b[1;32m   1160\u001b[0m \u001b[43m\u001b[49m\u001b[43m)\u001b[49m\n\u001b[1;32m   1162\u001b[0m y \u001b[38;5;241m=\u001b[39m _check_y(y, multi_output\u001b[38;5;241m=\u001b[39mmulti_output, y_numeric\u001b[38;5;241m=\u001b[39my_numeric, estimator\u001b[38;5;241m=\u001b[39mestimator)\n\u001b[1;32m   1164\u001b[0m check_consistent_length(X, y)\n",
      "File \u001b[0;32m~/.local/lib/python3.10/site-packages/sklearn/utils/validation.py:930\u001b[0m, in \u001b[0;36mcheck_array\u001b[0;34m(array, accept_sparse, accept_large_sparse, dtype, order, copy, force_all_finite, ensure_2d, allow_nd, ensure_min_samples, ensure_min_features, estimator, input_name)\u001b[0m\n\u001b[1;32m    927\u001b[0m \u001b[38;5;28;01mif\u001b[39;00m ensure_2d:\n\u001b[1;32m    928\u001b[0m     \u001b[38;5;66;03m# If input is scalar raise error\u001b[39;00m\n\u001b[1;32m    929\u001b[0m     \u001b[38;5;28;01mif\u001b[39;00m array\u001b[38;5;241m.\u001b[39mndim \u001b[38;5;241m==\u001b[39m \u001b[38;5;241m0\u001b[39m:\n\u001b[0;32m--> 930\u001b[0m         \u001b[38;5;28;01mraise\u001b[39;00m \u001b[38;5;167;01mValueError\u001b[39;00m(\n\u001b[1;32m    931\u001b[0m             \u001b[38;5;124m\"\u001b[39m\u001b[38;5;124mExpected 2D array, got scalar array instead:\u001b[39m\u001b[38;5;130;01m\\n\u001b[39;00m\u001b[38;5;124marray=\u001b[39m\u001b[38;5;132;01m{}\u001b[39;00m\u001b[38;5;124m.\u001b[39m\u001b[38;5;130;01m\\n\u001b[39;00m\u001b[38;5;124m\"\u001b[39m\n\u001b[1;32m    932\u001b[0m             \u001b[38;5;124m\"\u001b[39m\u001b[38;5;124mReshape your data either using array.reshape(-1, 1) if \u001b[39m\u001b[38;5;124m\"\u001b[39m\n\u001b[1;32m    933\u001b[0m             \u001b[38;5;124m\"\u001b[39m\u001b[38;5;124myour data has a single feature or array.reshape(1, -1) \u001b[39m\u001b[38;5;124m\"\u001b[39m\n\u001b[1;32m    934\u001b[0m             \u001b[38;5;124m\"\u001b[39m\u001b[38;5;124mif it contains a single sample.\u001b[39m\u001b[38;5;124m\"\u001b[39m\u001b[38;5;241m.\u001b[39mformat(array)\n\u001b[1;32m    935\u001b[0m         )\n\u001b[1;32m    936\u001b[0m     \u001b[38;5;66;03m# If input is 1D raise error\u001b[39;00m\n\u001b[1;32m    937\u001b[0m     \u001b[38;5;28;01mif\u001b[39;00m array\u001b[38;5;241m.\u001b[39mndim \u001b[38;5;241m==\u001b[39m \u001b[38;5;241m1\u001b[39m:\n",
      "\u001b[0;31mValueError\u001b[0m: Expected 2D array, got scalar array instead:\narray=DataFrame[Age of Subject: string, Time spent on Online Class: string, Rating of Online Class experience: string, Medium for online class: string, Time spent on self study: string, Time spent on fitness: string, Time spent on sleep: string, Time spent on social media: string, Prefered social media platform: string, Time spent on TV: string, Number of meals per day: string, Change in your weight: string, Health issue during lockdown: string, Stress busters: string, Time utilized: string, Do you find yourself more connected with your family, close friends , relatives  ?: string, What you miss the most: string].\nReshape your data either using array.reshape(-1, 1) if your data has a single feature or array.reshape(1, -1) if it contains a single sample."
     ]
    }
   ],
   "source": [
    "#issues with installing sklearn (this is a python library and not pyspark)\n",
    "!pip3 install sklearn\n",
    "!pip3 install --upgrade pip\n",
    "!pip3 install scikit-learn"
   ]
  },
  {
   "cell_type": "code",
   "execution_count": 46,
   "id": "5ff2a94f",
   "metadata": {},
   "outputs": [
    {
     "ename": "ValueError",
     "evalue": "Expected 2D array, got scalar array instead:\narray=DataFrame[Age of Subject: string, Time spent on Online Class: string, Rating of Online Class experience: string, Medium for online class: string, Time spent on self study: string, Time spent on fitness: string, Time spent on sleep: string, Time spent on social media: string, Prefered social media platform: string, Time spent on TV: string, Number of meals per day: string, Change in your weight: string, Health issue during lockdown: string, Stress busters: string, Time utilized: string, Do you find yourself more connected with your family, close friends , relatives  ?: string, What you miss the most: string].\nReshape your data either using array.reshape(-1, 1) if your data has a single feature or array.reshape(1, -1) if it contains a single sample.",
     "output_type": "error",
     "traceback": [
      "\u001b[0;31m---------------------------------------------------------------------------\u001b[0m",
      "\u001b[0;31mValueError\u001b[0m                                Traceback (most recent call last)",
      "Input \u001b[0;32mIn [46]\u001b[0m, in \u001b[0;36m<cell line: 14>\u001b[0;34m()\u001b[0m\n\u001b[1;32m     12\u001b[0m \u001b[38;5;66;03m#Produce and print scores for each categorical features in the data set\u001b[39;00m\n\u001b[1;32m     13\u001b[0m sf \u001b[38;5;241m=\u001b[39m SelectKBest(chi2, k\u001b[38;5;241m=\u001b[39m\u001b[38;5;124m'\u001b[39m\u001b[38;5;124mall\u001b[39m\u001b[38;5;124m'\u001b[39m)\n\u001b[0;32m---> 14\u001b[0m sf_fit \u001b[38;5;241m=\u001b[39m \u001b[43msf\u001b[49m\u001b[38;5;241;43m.\u001b[39;49m\u001b[43mfit\u001b[49m\u001b[43m(\u001b[49m\u001b[43mX1\u001b[49m\u001b[43m,\u001b[49m\u001b[43m \u001b[49m\u001b[43my1\u001b[49m\u001b[43m)\u001b[49m\n\u001b[1;32m     15\u001b[0m \u001b[38;5;66;03m#Print feature scores\u001b[39;00m\n\u001b[1;32m     16\u001b[0m \u001b[38;5;28;01mfor\u001b[39;00m i \u001b[38;5;129;01min\u001b[39;00m \u001b[38;5;28mrange\u001b[39m(\u001b[38;5;28mlen\u001b[39m(sf_fit\u001b[38;5;241m.\u001b[39mscores_)):\n",
      "File \u001b[0;32m~/.local/lib/python3.10/site-packages/sklearn/base.py:1152\u001b[0m, in \u001b[0;36m_fit_context.<locals>.decorator.<locals>.wrapper\u001b[0;34m(estimator, *args, **kwargs)\u001b[0m\n\u001b[1;32m   1145\u001b[0m     estimator\u001b[38;5;241m.\u001b[39m_validate_params()\n\u001b[1;32m   1147\u001b[0m \u001b[38;5;28;01mwith\u001b[39;00m config_context(\n\u001b[1;32m   1148\u001b[0m     skip_parameter_validation\u001b[38;5;241m=\u001b[39m(\n\u001b[1;32m   1149\u001b[0m         prefer_skip_nested_validation \u001b[38;5;129;01mor\u001b[39;00m global_skip_validation\n\u001b[1;32m   1150\u001b[0m     )\n\u001b[1;32m   1151\u001b[0m ):\n\u001b[0;32m-> 1152\u001b[0m     \u001b[38;5;28;01mreturn\u001b[39;00m \u001b[43mfit_method\u001b[49m\u001b[43m(\u001b[49m\u001b[43mestimator\u001b[49m\u001b[43m,\u001b[49m\u001b[43m \u001b[49m\u001b[38;5;241;43m*\u001b[39;49m\u001b[43margs\u001b[49m\u001b[43m,\u001b[49m\u001b[43m \u001b[49m\u001b[38;5;241;43m*\u001b[39;49m\u001b[38;5;241;43m*\u001b[39;49m\u001b[43mkwargs\u001b[49m\u001b[43m)\u001b[49m\n",
      "File \u001b[0;32m~/.local/lib/python3.10/site-packages/sklearn/feature_selection/_univariate_selection.py:498\u001b[0m, in \u001b[0;36m_BaseFilter.fit\u001b[0;34m(self, X, y)\u001b[0m\n\u001b[1;32m    480\u001b[0m \u001b[38;5;129m@_fit_context\u001b[39m(prefer_skip_nested_validation\u001b[38;5;241m=\u001b[39m\u001b[38;5;28;01mTrue\u001b[39;00m)\n\u001b[1;32m    481\u001b[0m \u001b[38;5;28;01mdef\u001b[39;00m \u001b[38;5;21mfit\u001b[39m(\u001b[38;5;28mself\u001b[39m, X, y):\n\u001b[1;32m    482\u001b[0m     \u001b[38;5;124;03m\"\"\"Run score function on (X, y) and get the appropriate features.\u001b[39;00m\n\u001b[1;32m    483\u001b[0m \n\u001b[1;32m    484\u001b[0m \u001b[38;5;124;03m    Parameters\u001b[39;00m\n\u001b[0;32m   (...)\u001b[0m\n\u001b[1;32m    496\u001b[0m \u001b[38;5;124;03m        Returns the instance itself.\u001b[39;00m\n\u001b[1;32m    497\u001b[0m \u001b[38;5;124;03m    \"\"\"\u001b[39;00m\n\u001b[0;32m--> 498\u001b[0m     X, y \u001b[38;5;241m=\u001b[39m \u001b[38;5;28;43mself\u001b[39;49m\u001b[38;5;241;43m.\u001b[39;49m\u001b[43m_validate_data\u001b[49m\u001b[43m(\u001b[49m\n\u001b[1;32m    499\u001b[0m \u001b[43m        \u001b[49m\u001b[43mX\u001b[49m\u001b[43m,\u001b[49m\u001b[43m \u001b[49m\u001b[43my\u001b[49m\u001b[43m,\u001b[49m\u001b[43m \u001b[49m\u001b[43maccept_sparse\u001b[49m\u001b[38;5;241;43m=\u001b[39;49m\u001b[43m[\u001b[49m\u001b[38;5;124;43m\"\u001b[39;49m\u001b[38;5;124;43mcsr\u001b[39;49m\u001b[38;5;124;43m\"\u001b[39;49m\u001b[43m,\u001b[49m\u001b[43m \u001b[49m\u001b[38;5;124;43m\"\u001b[39;49m\u001b[38;5;124;43mcsc\u001b[39;49m\u001b[38;5;124;43m\"\u001b[39;49m\u001b[43m]\u001b[49m\u001b[43m,\u001b[49m\u001b[43m \u001b[49m\u001b[43mmulti_output\u001b[49m\u001b[38;5;241;43m=\u001b[39;49m\u001b[38;5;28;43;01mTrue\u001b[39;49;00m\n\u001b[1;32m    500\u001b[0m \u001b[43m    \u001b[49m\u001b[43m)\u001b[49m\n\u001b[1;32m    502\u001b[0m     \u001b[38;5;28mself\u001b[39m\u001b[38;5;241m.\u001b[39m_check_params(X, y)\n\u001b[1;32m    503\u001b[0m     score_func_ret \u001b[38;5;241m=\u001b[39m \u001b[38;5;28mself\u001b[39m\u001b[38;5;241m.\u001b[39mscore_func(X, y)\n",
      "File \u001b[0;32m~/.local/lib/python3.10/site-packages/sklearn/base.py:622\u001b[0m, in \u001b[0;36mBaseEstimator._validate_data\u001b[0;34m(self, X, y, reset, validate_separately, cast_to_ndarray, **check_params)\u001b[0m\n\u001b[1;32m    620\u001b[0m         y \u001b[38;5;241m=\u001b[39m check_array(y, input_name\u001b[38;5;241m=\u001b[39m\u001b[38;5;124m\"\u001b[39m\u001b[38;5;124my\u001b[39m\u001b[38;5;124m\"\u001b[39m, \u001b[38;5;241m*\u001b[39m\u001b[38;5;241m*\u001b[39mcheck_y_params)\n\u001b[1;32m    621\u001b[0m     \u001b[38;5;28;01melse\u001b[39;00m:\n\u001b[0;32m--> 622\u001b[0m         X, y \u001b[38;5;241m=\u001b[39m \u001b[43mcheck_X_y\u001b[49m\u001b[43m(\u001b[49m\u001b[43mX\u001b[49m\u001b[43m,\u001b[49m\u001b[43m \u001b[49m\u001b[43my\u001b[49m\u001b[43m,\u001b[49m\u001b[43m \u001b[49m\u001b[38;5;241;43m*\u001b[39;49m\u001b[38;5;241;43m*\u001b[39;49m\u001b[43mcheck_params\u001b[49m\u001b[43m)\u001b[49m\n\u001b[1;32m    623\u001b[0m     out \u001b[38;5;241m=\u001b[39m X, y\n\u001b[1;32m    625\u001b[0m \u001b[38;5;28;01mif\u001b[39;00m \u001b[38;5;129;01mnot\u001b[39;00m no_val_X \u001b[38;5;129;01mand\u001b[39;00m check_params\u001b[38;5;241m.\u001b[39mget(\u001b[38;5;124m\"\u001b[39m\u001b[38;5;124mensure_2d\u001b[39m\u001b[38;5;124m\"\u001b[39m, \u001b[38;5;28;01mTrue\u001b[39;00m):\n",
      "File \u001b[0;32m~/.local/lib/python3.10/site-packages/sklearn/utils/validation.py:1146\u001b[0m, in \u001b[0;36mcheck_X_y\u001b[0;34m(X, y, accept_sparse, accept_large_sparse, dtype, order, copy, force_all_finite, ensure_2d, allow_nd, multi_output, ensure_min_samples, ensure_min_features, y_numeric, estimator)\u001b[0m\n\u001b[1;32m   1141\u001b[0m         estimator_name \u001b[38;5;241m=\u001b[39m _check_estimator_name(estimator)\n\u001b[1;32m   1142\u001b[0m     \u001b[38;5;28;01mraise\u001b[39;00m \u001b[38;5;167;01mValueError\u001b[39;00m(\n\u001b[1;32m   1143\u001b[0m         \u001b[38;5;124mf\u001b[39m\u001b[38;5;124m\"\u001b[39m\u001b[38;5;132;01m{\u001b[39;00mestimator_name\u001b[38;5;132;01m}\u001b[39;00m\u001b[38;5;124m requires y to be passed, but the target y is None\u001b[39m\u001b[38;5;124m\"\u001b[39m\n\u001b[1;32m   1144\u001b[0m     )\n\u001b[0;32m-> 1146\u001b[0m X \u001b[38;5;241m=\u001b[39m \u001b[43mcheck_array\u001b[49m\u001b[43m(\u001b[49m\n\u001b[1;32m   1147\u001b[0m \u001b[43m    \u001b[49m\u001b[43mX\u001b[49m\u001b[43m,\u001b[49m\n\u001b[1;32m   1148\u001b[0m \u001b[43m    \u001b[49m\u001b[43maccept_sparse\u001b[49m\u001b[38;5;241;43m=\u001b[39;49m\u001b[43maccept_sparse\u001b[49m\u001b[43m,\u001b[49m\n\u001b[1;32m   1149\u001b[0m \u001b[43m    \u001b[49m\u001b[43maccept_large_sparse\u001b[49m\u001b[38;5;241;43m=\u001b[39;49m\u001b[43maccept_large_sparse\u001b[49m\u001b[43m,\u001b[49m\n\u001b[1;32m   1150\u001b[0m \u001b[43m    \u001b[49m\u001b[43mdtype\u001b[49m\u001b[38;5;241;43m=\u001b[39;49m\u001b[43mdtype\u001b[49m\u001b[43m,\u001b[49m\n\u001b[1;32m   1151\u001b[0m \u001b[43m    \u001b[49m\u001b[43morder\u001b[49m\u001b[38;5;241;43m=\u001b[39;49m\u001b[43morder\u001b[49m\u001b[43m,\u001b[49m\n\u001b[1;32m   1152\u001b[0m \u001b[43m    \u001b[49m\u001b[43mcopy\u001b[49m\u001b[38;5;241;43m=\u001b[39;49m\u001b[43mcopy\u001b[49m\u001b[43m,\u001b[49m\n\u001b[1;32m   1153\u001b[0m \u001b[43m    \u001b[49m\u001b[43mforce_all_finite\u001b[49m\u001b[38;5;241;43m=\u001b[39;49m\u001b[43mforce_all_finite\u001b[49m\u001b[43m,\u001b[49m\n\u001b[1;32m   1154\u001b[0m \u001b[43m    \u001b[49m\u001b[43mensure_2d\u001b[49m\u001b[38;5;241;43m=\u001b[39;49m\u001b[43mensure_2d\u001b[49m\u001b[43m,\u001b[49m\n\u001b[1;32m   1155\u001b[0m \u001b[43m    \u001b[49m\u001b[43mallow_nd\u001b[49m\u001b[38;5;241;43m=\u001b[39;49m\u001b[43mallow_nd\u001b[49m\u001b[43m,\u001b[49m\n\u001b[1;32m   1156\u001b[0m \u001b[43m    \u001b[49m\u001b[43mensure_min_samples\u001b[49m\u001b[38;5;241;43m=\u001b[39;49m\u001b[43mensure_min_samples\u001b[49m\u001b[43m,\u001b[49m\n\u001b[1;32m   1157\u001b[0m \u001b[43m    \u001b[49m\u001b[43mensure_min_features\u001b[49m\u001b[38;5;241;43m=\u001b[39;49m\u001b[43mensure_min_features\u001b[49m\u001b[43m,\u001b[49m\n\u001b[1;32m   1158\u001b[0m \u001b[43m    \u001b[49m\u001b[43mestimator\u001b[49m\u001b[38;5;241;43m=\u001b[39;49m\u001b[43mestimator\u001b[49m\u001b[43m,\u001b[49m\n\u001b[1;32m   1159\u001b[0m \u001b[43m    \u001b[49m\u001b[43minput_name\u001b[49m\u001b[38;5;241;43m=\u001b[39;49m\u001b[38;5;124;43m\"\u001b[39;49m\u001b[38;5;124;43mX\u001b[39;49m\u001b[38;5;124;43m\"\u001b[39;49m\u001b[43m,\u001b[49m\n\u001b[1;32m   1160\u001b[0m \u001b[43m\u001b[49m\u001b[43m)\u001b[49m\n\u001b[1;32m   1162\u001b[0m y \u001b[38;5;241m=\u001b[39m _check_y(y, multi_output\u001b[38;5;241m=\u001b[39mmulti_output, y_numeric\u001b[38;5;241m=\u001b[39my_numeric, estimator\u001b[38;5;241m=\u001b[39mestimator)\n\u001b[1;32m   1164\u001b[0m check_consistent_length(X, y)\n",
      "File \u001b[0;32m~/.local/lib/python3.10/site-packages/sklearn/utils/validation.py:930\u001b[0m, in \u001b[0;36mcheck_array\u001b[0;34m(array, accept_sparse, accept_large_sparse, dtype, order, copy, force_all_finite, ensure_2d, allow_nd, ensure_min_samples, ensure_min_features, estimator, input_name)\u001b[0m\n\u001b[1;32m    927\u001b[0m \u001b[38;5;28;01mif\u001b[39;00m ensure_2d:\n\u001b[1;32m    928\u001b[0m     \u001b[38;5;66;03m# If input is scalar raise error\u001b[39;00m\n\u001b[1;32m    929\u001b[0m     \u001b[38;5;28;01mif\u001b[39;00m array\u001b[38;5;241m.\u001b[39mndim \u001b[38;5;241m==\u001b[39m \u001b[38;5;241m0\u001b[39m:\n\u001b[0;32m--> 930\u001b[0m         \u001b[38;5;28;01mraise\u001b[39;00m \u001b[38;5;167;01mValueError\u001b[39;00m(\n\u001b[1;32m    931\u001b[0m             \u001b[38;5;124m\"\u001b[39m\u001b[38;5;124mExpected 2D array, got scalar array instead:\u001b[39m\u001b[38;5;130;01m\\n\u001b[39;00m\u001b[38;5;124marray=\u001b[39m\u001b[38;5;132;01m{}\u001b[39;00m\u001b[38;5;124m.\u001b[39m\u001b[38;5;130;01m\\n\u001b[39;00m\u001b[38;5;124m\"\u001b[39m\n\u001b[1;32m    932\u001b[0m             \u001b[38;5;124m\"\u001b[39m\u001b[38;5;124mReshape your data either using array.reshape(-1, 1) if \u001b[39m\u001b[38;5;124m\"\u001b[39m\n\u001b[1;32m    933\u001b[0m             \u001b[38;5;124m\"\u001b[39m\u001b[38;5;124myour data has a single feature or array.reshape(1, -1) \u001b[39m\u001b[38;5;124m\"\u001b[39m\n\u001b[1;32m    934\u001b[0m             \u001b[38;5;124m\"\u001b[39m\u001b[38;5;124mif it contains a single sample.\u001b[39m\u001b[38;5;124m\"\u001b[39m\u001b[38;5;241m.\u001b[39mformat(array)\n\u001b[1;32m    935\u001b[0m         )\n\u001b[1;32m    936\u001b[0m     \u001b[38;5;66;03m# If input is 1D raise error\u001b[39;00m\n\u001b[1;32m    937\u001b[0m     \u001b[38;5;28;01mif\u001b[39;00m array\u001b[38;5;241m.\u001b[39mndim \u001b[38;5;241m==\u001b[39m \u001b[38;5;241m1\u001b[39m:\n",
      "\u001b[0;31mValueError\u001b[0m: Expected 2D array, got scalar array instead:\narray=DataFrame[Age of Subject: string, Time spent on Online Class: string, Rating of Online Class experience: string, Medium for online class: string, Time spent on self study: string, Time spent on fitness: string, Time spent on sleep: string, Time spent on social media: string, Prefered social media platform: string, Time spent on TV: string, Number of meals per day: string, Change in your weight: string, Health issue during lockdown: string, Stress busters: string, Time utilized: string, Do you find yourself more connected with your family, close friends , relatives  ?: string, What you miss the most: string].\nReshape your data either using array.reshape(-1, 1) if your data has a single feature or array.reshape(1, -1) if it contains a single sample."
     ]
    }
   ],
   "source": [
    "from sklearn.feature_selection import SelectKBest\n",
    "from sklearn.feature_selection import chi2\n",
    "import numpy as np\n",
    "\n",
    "dropColumnsX1 = [\"ID\", \"Region of residence\", \"Residential Region\"]\n",
    "X1 = dfpd2.drop(*dropColumnsX1)\n",
    "\n",
    "dropColumnsy1 = [\"ID\", \"Region of residence\"]\n",
    "y1 = dfpd2.select(\"Residential Region\").drop(*dropColumnsy1)\n",
    "\n",
    "\n",
    "#Produce and print scores for each categorical features in the data set\n",
    "sf = SelectKBest(chi2, k='all')\n",
    "sf_fit = sf.fit(X1, y1)\n",
    "#Print feature scores\n",
    "for i in range(len(sf_fit.scores_)):\n",
    "    print(' %s: %f' % (X1.columns[i], sf_fit.scores_[i]))\n",
    "#Visualising the scores\n",
    "#Get the indices sorted by most important to least important\n",
    "indices = np.argsort(sf_fit.scores_)[::-1]\n",
    "#Top 15 feature names\n",
    "features = []\n",
    "for i in range(15):\n",
    "    features.append(X1.columns[indices[i]])\n",
    "#Plotting top 15 features\n",
    "plt.figure(figsize=(35, 3))\n",
    "plt.bar(features, sf_fit.scores_[indices[range(15)]], color='r', align='center',\n",
    "width=0.3)\n",
    "plt.xticks(rotation=75)\n",
    "plt.show()"
   ]
  }
 ],
 "metadata": {
  "kernelspec": {
   "display_name": "Python 3 (ipykernel)",
   "language": "python",
   "name": "python3"
  },
  "language_info": {
   "codemirror_mode": {
    "name": "ipython",
    "version": 3
   },
   "file_extension": ".py",
   "mimetype": "text/x-python",
   "name": "python",
   "nbconvert_exporter": "python",
   "pygments_lexer": "ipython3",
   "version": "3.10.4"
  }
 },
 "nbformat": 4,
 "nbformat_minor": 5
}
