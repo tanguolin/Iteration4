{
 "cells": [
  {
   "cell_type": "code",
   "execution_count": 2,
   "id": "1c1b2eb3",
   "metadata": {},
   "outputs": [
    {
     "name": "stderr",
     "output_type": "stream",
     "text": [
      "WARNING: An illegal reflective access operation has occurred\n",
      "WARNING: Illegal reflective access by org.apache.spark.unsafe.Platform (file:/home/ubuntu/spark-3.2.1-bin-hadoop2.7/jars/spark-unsafe_2.12-3.2.1.jar) to constructor java.nio.DirectByteBuffer(long,int)\n",
      "WARNING: Please consider reporting this to the maintainers of org.apache.spark.unsafe.Platform\n",
      "WARNING: Use --illegal-access=warn to enable warnings of further illegal reflective access operations\n",
      "WARNING: All illegal access operations will be denied in a future release\n",
      "Using Spark's default log4j profile: org/apache/spark/log4j-defaults.properties\n",
      "Setting default log level to \"WARN\".\n",
      "To adjust logging level use sc.setLogLevel(newLevel). For SparkR, use setLogLevel(newLevel).\n",
      "23/10/02 01:18:22 WARN NativeCodeLoader: Unable to load native-hadoop library for your platform... using builtin-java classes where applicable\n"
     ]
    }
   ],
   "source": [
    "# Initializing the app\n",
    "import findspark\n",
    "findspark.init('/home/ubuntu/spark-3.2.1-bin-hadoop2.7')\n",
    "import pyspark\n",
    "from pyspark.sql import *\n",
    "spark = SparkSession.builder.appName('wtam186_Iteration4').getOrCreate()"
   ]
  },
  {
   "cell_type": "code",
   "execution_count": 4,
   "id": "5c8aad51",
   "metadata": {},
   "outputs": [
    {
     "data": {
      "text/plain": [
       "DataFrame[ID: string, Region of residence: string, Age of Subject: string, Time spent on Online Class: string, Rating of Online Class experience: string, Medium for online class: string, Time spent on self study: string, Time spent on fitness: string, Time spent on sleep: string, Time spent on social media: string, Prefered social media platform: string, Time spent on TV: string, Number of meals per day: string, Change in your weight: string, Health issue during lockdown: string, Stress busters: string, Time utilized: string, Do you find yourself more connected with your family, close friends , relatives  ?: string, What you miss the most: string]"
      ]
     },
     "execution_count": 4,
     "metadata": {},
     "output_type": "execute_result"
    }
   ],
   "source": [
    "# Loading dataset\n",
    "df = spark.read.csv('./Datasets/COVID-19 Survey Student Responses.csv', header='true')\n",
    "df"
   ]
  },
  {
   "cell_type": "markdown",
   "id": "063fa4ef",
   "metadata": {},
   "source": [
    "# Step 2.1: Initial Inspection on the dataset"
   ]
  },
  {
   "cell_type": "code",
   "execution_count": 9,
   "id": "76b35679",
   "metadata": {},
   "outputs": [
    {
     "name": "stdout",
     "output_type": "stream",
     "text": [
      "+---+-------------------+--------------+--------------------------+---------------------------------+\n",
      "| ID|Region of residence|Age of Subject|Time spent on Online Class|Rating of Online Class experience|\n",
      "+---+-------------------+--------------+--------------------------+---------------------------------+\n",
      "| R1|          Delhi-NCR|            21|                         2|                             Good|\n",
      "| R2|          Delhi-NCR|            21|                         0|                        Excellent|\n",
      "| R3|          Delhi-NCR|            20|                         7|                        Very poor|\n",
      "| R4|          Delhi-NCR|            20|                         3|                        Very poor|\n",
      "| R5|          Delhi-NCR|            21|                         3|                             Good|\n",
      "| R6|          Delhi-NCR|            21|                         0|                        Very poor|\n",
      "| R7|          Delhi-NCR|            19|                         2|                        Very poor|\n",
      "| R8|  Outside Delhi-NCR|            19|                         2|                        Very poor|\n",
      "| R9|          Delhi-NCR|            21|                         3|                        Very poor|\n",
      "|R10|  Outside Delhi-NCR|            20|                         0|                        Very poor|\n",
      "+---+-------------------+--------------+--------------------------+---------------------------------+\n",
      "only showing top 10 rows\n",
      "\n",
      "+-----------------------+------------------------+---------------------+-------------------+\n",
      "|Medium for online class|Time spent on self study|Time spent on fitness|Time spent on sleep|\n",
      "+-----------------------+------------------------+---------------------+-------------------+\n",
      "|         Laptop/Desktop|                       4|                    0|                  7|\n",
      "|             Smartphone|                       0|                    2|                 10|\n",
      "|         Laptop/Desktop|                       3|                    0|                  6|\n",
      "|             Smartphone|                       2|                    1|                  6|\n",
      "|         Laptop/Desktop|                       3|                    1|                  8|\n",
      "|             Smartphone|                       6|                    0|                  5|\n",
      "|             Smartphone|                       2|                    1|                  5|\n",
      "|                 Tablet|                       1|                    1|                 10|\n",
      "|         Laptop/Desktop|                       4|                    1|                  8|\n",
      "|         Laptop/Desktop|                       1|                  0.5|                  8|\n",
      "+-----------------------+------------------------+---------------------+-------------------+\n",
      "only showing top 10 rows\n",
      "\n",
      "+--------------------------+------------------------------+----------------+-----------------------+\n",
      "|Time spent on social media|Prefered social media platform|Time spent on TV|Number of meals per day|\n",
      "+--------------------------+------------------------------+----------------+-----------------------+\n",
      "|                         3|                      Linkedin|               1|                      4|\n",
      "|                         3|                       Youtube|               0|                      3|\n",
      "|                         2|                      Linkedin|               0|                      3|\n",
      "|                         5|                     Instagram|               0|                      3|\n",
      "|                         3|                     Instagram|               1|                      4|\n",
      "|                         1|                       Youtube|               0|                      1|\n",
      "|                         4|                     Instagram|               0|                      3|\n",
      "|                         5|                     Instagram|               0|                      3|\n",
      "|                         2|                      Whatsapp|               1|                      3|\n",
      "|                         5|                     Instagram|               3|                      3|\n",
      "+--------------------------+------------------------------+----------------+-----------------------+\n",
      "only showing top 10 rows\n",
      "\n",
      "+---------------------+----------------------------+--------------------+-------------+\n",
      "|Change in your weight|Health issue during lockdown|      Stress busters|Time utilized|\n",
      "+---------------------+----------------------------+--------------------+-------------+\n",
      "|            Increased|                          NO|             Cooking|          YES|\n",
      "|            Decreased|                          NO|Scrolling through...|          YES|\n",
      "|      Remain Constant|                          NO|  Listening to music|           NO|\n",
      "|            Decreased|                          NO| Watching web series|           NO|\n",
      "|      Remain Constant|                          NO|        Social Media|           NO|\n",
      "|            Decreased|                         YES|Coding and studyi...|           NO|\n",
      "|            Increased|                          NO| Watching web series|           NO|\n",
      "|            Increased|                         YES|Scrolling through...|           NO|\n",
      "|            Increased|                          NO|      Online surfing|           NO|\n",
      "|            Decreased|                         YES|live stream watching|           NO|\n",
      "+---------------------+----------------------------+--------------------+-------------+\n",
      "only showing top 10 rows\n",
      "\n",
      "+----------------------------------------------------------------------------------+----------------------+\n",
      "|Do you find yourself more connected with your family, close friends , relatives  ?|What you miss the most|\n",
      "+----------------------------------------------------------------------------------+----------------------+\n",
      "|                                                                               YES|        School/college|\n",
      "|                                                                                NO|  Roaming around fr...|\n",
      "|                                                                               YES|            Travelling|\n",
      "|                                                                                NO|   Friends , relatives|\n",
      "|                                                                                NO|            Travelling|\n",
      "|                                                                               YES|        School/college|\n",
      "|                                                                               YES|   Friends , relatives|\n",
      "|                                                                               YES|        Eating outside|\n",
      "|                                                                                NO|   Friends , relatives|\n",
      "|                                                                                NO|        School/college|\n",
      "+----------------------------------------------------------------------------------+----------------------+\n",
      "only showing top 10 rows\n",
      "\n"
     ]
    }
   ],
   "source": [
    "# Understanding the data by showing the top 10 rows and displaying specific columns in a clear and tidy format (to avoid output being truncated)\n",
    "df.select(\"ID\", \"Region of residence\", \"Age of Subject\", \"Time spent on Online Class\", \"Rating of Online Class experience\").show(10)\n",
    "df.select(\"Medium for online class\", \"Time spent on self study\", \"Time spent on fitness\", \"Time spent on sleep\").show(10)\n",
    "df.select(\"Time spent on social media\", \"Prefered social media platform\", \"Time spent on TV\", \"Number of meals per day\").show(10)\n",
    "df.select(\"Change in your weight\", \"Health issue during lockdown\", \"Stress busters\", \"Time utilized\").show(10)\n",
    "df.select(\"Do you find yourself more connected with your family, close friends , relatives  ?\", \"What you miss the most\").show(10)\n"
   ]
  }
 ],
 "metadata": {
  "kernelspec": {
   "display_name": "Python 3 (ipykernel)",
   "language": "python",
   "name": "python3"
  },
  "language_info": {
   "codemirror_mode": {
    "name": "ipython",
    "version": 3
   },
   "file_extension": ".py",
   "mimetype": "text/x-python",
   "name": "python",
   "nbconvert_exporter": "python",
   "pygments_lexer": "ipython3",
   "version": "3.10.4"
  }
 },
 "nbformat": 4,
 "nbformat_minor": 5
}
